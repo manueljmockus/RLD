{
 "cells": [
  {
   "cell_type": "markdown",
   "id": "febec091",
   "metadata": {
    "id": "pvLBhVirapw-"
   },
   "source": [
    "# Outlook #"
   ]
  },
  {
   "cell_type": "markdown",
   "id": "73de3b7d",
   "metadata": {
    "id": "CDnFYaehas2B"
   },
   "source": [
    "In this colab we will investigate the **value iteration** and **policy iteration** algorithms in a maze environment."
   ]
  },
  {
   "cell_type": "markdown",
   "id": "6682d547",
   "metadata": {
    "id": "ILQS3CjXDRO0"
   },
   "source": [
    "# Installation #"
   ]
  },
  {
   "cell_type": "code",
   "execution_count": 1,
   "id": "15b22c60",
   "metadata": {
    "colab": {
     "base_uri": "https://localhost:8080/"
    },
    "id": "IU5THTsX5Fmw",
    "outputId": "46edb215-bb06-4af2-971d-2919613f7619"
   },
   "outputs": [],
   "source": [
    "if get_ipython().__class__.__module__ == \"google.colab._shell\":\n",
    "    !apt-get install ffmpeg"
   ]
  },
  {
   "cell_type": "code",
   "execution_count": 2,
   "id": "938429e4",
   "metadata": {
    "colab": {
     "base_uri": "https://localhost:8080/"
    },
    "id": "H6bDf5E_Hh-3",
    "outputId": "f84c573f-e9dd-44fc-e9f2-1a6bf1b8ba74"
   },
   "outputs": [
    {
     "name": "stdout",
     "output_type": "stream",
     "text": [
      "Defaulting to user installation because normal site-packages is not writeable\n",
      "Collecting git+https://github.com/osigaud/my_gym\n",
      "  Cloning https://github.com/osigaud/my_gym to /tmp/pip-req-build-mllp4b4x\n",
      "  Running command git clone --filter=blob:none --quiet https://github.com/osigaud/my_gym /tmp/pip-req-build-mllp4b4x\n",
      "^C\n",
      "\u001b[31mERROR: Operation cancelled by user\u001b[0m\u001b[31m\n",
      "\u001b[0m"
     ]
    }
   ],
   "source": [
    "try:\n",
    "    import my_gym\n",
    "except ModuleNotFoundError as e:\n",
    "    !pip install git+https://github.com/osigaud/my_gym"
   ]
  },
  {
   "cell_type": "code",
   "execution_count": null,
   "id": "33aae6af",
   "metadata": {
    "id": "PE58RHs9dEEh"
   },
   "outputs": [],
   "source": [
    "import os\n",
    "from typing import Tuple, List\n",
    "\n",
    "import numpy as np\n",
    "import matplotlib.pyplot as plt\n",
    "\n",
    "from mazemdp.maze_plotter import show_videos\n",
    "from my_gym.envs.maze_mdp import MazeMDPEnv\n",
    "\n",
    "# For visualization\n",
    "os.environ[\"VIDEO_FPS\"] = \"5\"\n",
    "if not os.path.isdir(\"./videos\"):\n",
    "    os.mkdir(\"./videos\")\n",
    "\n",
    "from IPython.display import Video"
   ]
  },
  {
   "cell_type": "code",
   "execution_count": null,
   "id": "d43187c8",
   "metadata": {
    "id": "Sa3oM2C1CqLl"
   },
   "outputs": [],
   "source": [
    "# Agents and MDPs #\n",
    "\n"
   ]
  },
  {
   "cell_type": "markdown",
   "id": "4faaea4a",
   "metadata": {
    "id": "eL3B_dpu-H-f"
   },
   "source": [
    "\n",
    "A reinforcement learning agent interacts with an environment represented as a Markov Decision Process (MDP). It is defined by a tuple $(S, A, P, r, \\gamma)$ where $S$ is the state space, $A$ is the action space, $P(state_t, action_t, state_{t+1})$ is the transition function, $r(state_t, action_t)$ is the reward function and $\\gamma \\in [0, 1]$ is the discount factor.\n",
    "\n"
   ]
  },
  {
   "cell_type": "markdown",
   "id": "ae177846",
   "metadata": {
    "id": "A-5EU9BalMQI"
   },
   "source": [
    "In what follows we import code to create an MDP corresponding to a random maze (see https://github.com/osigaud/SimpleMazeMDP for documentation)."
   ]
  },
  {
   "cell_type": "code",
   "execution_count": null,
   "id": "c9476f2a",
   "metadata": {
    "id": "OvSGrPnKlXxf"
   },
   "outputs": [
    {
     "data": {
      "application/vnd.jupyter.widget-view+json": {
       "model_id": "9f1266cf7a9643d0b33634ea9de74e11",
       "version_major": 2,
       "version_minor": 0
      },
      "text/plain": [
       "Output()"
      ]
     },
     "metadata": {},
     "output_type": "display_data"
    }
   ],
   "source": [
    "import gym\n",
    "import my_gym\n",
    "\n",
    "\n",
    "env = gym.make(\"MazeMDP-v0\", kwargs={\"width\": 5, \"height\": 5, \"ratio\": 0.2})\n",
    "env.reset()\n",
    "\n",
    "# in dynamic programming, there is no agent moving in the environment\n",
    "env.set_no_agent()\n",
    "env.init_draw(\"The maze\")"
   ]
  },
  {
   "cell_type": "markdown",
   "id": "547662a6",
   "metadata": {
    "id": "pL-L0w1ECuah"
   },
   "source": [
    "# Dynamic programming #"
   ]
  },
  {
   "cell_type": "markdown",
   "id": "17fe8bf1",
   "metadata": {
    "id": "jHUlXv9TCha4"
   },
   "source": [
    "\n",
    "The goal of an RL agent is to find the optimal behaviour, defined by a policy $\\pi$ that assigns an action (or distribution over actions) to each state so as to maximize the agent's total expected reward. In order to estimate how good a state is, either a state value function $V(x)$ or a state-action value function $Q(x,u)$ is used.\n",
    "\n",
    "Dynamic programming algorithms are used for planning, they require a full knowledge of the MDP from the agent (in contrast to \"true\" RL where the agent does not know the transition and reward functions).\n",
    "They find the optimal policy by computing a value function $V$ or an action-value function $Q$ over the state space or state-action space of the given MDP. **Value iteration** and **policy iteration** are two standard dynamic programming algorithms. You should study both of them using both $V$ and $Q$, as these algorithms contain the basic building blocks for most RL algorithms.\n"
   ]
  },
  {
   "cell_type": "markdown",
   "id": "5ab2f6b8",
   "metadata": {
    "id": "LTW9XJD8DjsD"
   },
   "source": [
    "## Value Iteration ##"
   ]
  },
  {
   "cell_type": "markdown",
   "id": "533e1dcd",
   "metadata": {
    "id": "jpjrIBqEDmyl"
   },
   "source": [
    "### Value Iteration with the V function ###\n"
   ]
  },
  {
   "cell_type": "markdown",
   "id": "8b8f42a3",
   "metadata": {
    "id": "8eSkbueDDrw2"
   },
   "source": [
    "\n",
    "When using the $V$ function, **value iteration** aims at finding the optimal values $V^*$ based on the Bellman Optimality Equation:\n",
    "$$V^*(s) = \\max_a \\big[ r(s,a) + \\gamma \\sum_{y \\in S} P(s,a,y)V^*(y) \\big],$$\n",
    "\n",
    "where:\n",
    "\n",
    "*   $r(s, a)$ is the reward obtained from taking action $a$ in state $s$,\n",
    "*   $P(s, a, y)$ is the probability of reaching state $y$ when taking action $a$ in state $s$, \n",
    "*   $\\gamma \\in [0,1]$ is a discount factor defining the relative importance of long term rewards over short term ones (the closer to 0, the more the agent focuses on immediate rewards).\n",
    "\n",
    "In practice, we start with an initial value function $V^0$ (for instance, the values of all states are 0), and then we iterate for all states $s$\n",
    "\n",
    "$$V^{i+1}(s) = \\max_a \\big[ r(s,a) + \\gamma \\sum_{y \\in S} P(s,a,y)V^i(y) \\big],$$\n",
    "\n",
    "until the values converge, that is $\\forall s, V^{i+1}(s) \\approx V^i(s)$. It is shown that at convergence, $\\forall s, V^i(s)= V^*(s)$."
   ]
  },
  {
   "cell_type": "markdown",
   "id": "c9bc781f",
   "metadata": {
    "id": "8cwhDCVznRfx"
   },
   "source": [
    "To visualize the policy obtained from **value iteration**, we need to first define the `get_policy_from_V()` function"
   ]
  },
  {
   "cell_type": "code",
   "execution_count": null,
   "id": "cef40df0",
   "metadata": {
    "id": "uLJ6ccP0aNpR"
   },
   "outputs": [],
   "source": [
    "def get_policy_from_v(mdp: MazeMDPEnv, v: np.ndarray) -> np.ndarray:\n",
    "    # Outputs a policy given the state values\n",
    "    policy = np.zeros(mdp.nb_states)  # initial state values are set to 0\n",
    "    for x in range(mdp.nb_states):  # for each state x\n",
    "        if x not in mdp.terminal_states:\n",
    "            # Compute the value of the state x for each action u of the MDP action space\n",
    "            v_temp = []\n",
    "            for u in mdp.action_space.actions:\n",
    "                # Process sum of the values of the neighbouring states\n",
    "                summ = 0\n",
    "                for y in range(mdp.nb_states):\n",
    "                    summ = summ + mdp.P[x, u, y] * v[y]\n",
    "                v_temp.append(mdp.r[x, u] + mdp.gamma * summ)\n",
    "            policy[x] = np.argmax(v_temp)\n",
    "    return policy"
   ]
  },
  {
   "cell_type": "markdown",
   "id": "e4d63213",
   "metadata": {
    "id": "pX2cGPT9nNga"
   },
   "source": [
    "\n",
    "The `value_iteration_v(mdp)` function below provides the code of **value iteration** using the $V$ function. It is given as an example from which you can derive other instances of dynamic programming algorithms. Look at it more closely, this will help for later questions:\n",
    "\n",
    "* you can ignore the `mdp.new_render()` and `mdp.render(...)` functions which are here to provide the visualization of the iterations.\n",
    "* find in the code the loop over states, the main loop that performs these updates until the values don't change significantly anymore, the main update equation. Found them? OK, you can continue...\n"
   ]
  },
  {
   "cell_type": "code",
   "execution_count": null,
   "id": "d457e025",
   "metadata": {
    "id": "FUurUq7val7K"
   },
   "outputs": [],
   "source": [
    "from gym.wrappers.monitoring.video_recorder import VideoRecorder\n",
    "\n",
    "def value_iteration_v(mdp: MazeMDPEnv, render: bool = True) -> Tuple[np.ndarray, List[float]]:\n",
    "    # Value Iteration using the state value v\n",
    "    v = np.zeros(mdp.nb_states)  # initial state values are set to 0\n",
    "    v_list = []\n",
    "    stop = False\n",
    "\n",
    "    video_recorder = VideoRecorder(mdp, \"videos/ValueIterationV.mp4\", enabled=render)\n",
    "    mdp.set_title(\"Value iteration V\")\n",
    "    if render:\n",
    "        mdp.render()\n",
    "        video_recorder.capture_frame()\n",
    "    mdp.set_render_func(mdp.draw_v, lambda draw: draw(v))\n",
    "\n",
    "    while not stop:\n",
    "        v_old = v.copy()\n",
    "        if render:\n",
    "            mdp.render()\n",
    "            video_recorder.capture_frame()\n",
    "\n",
    "        for x in range(mdp.nb_states):  # for each state x\n",
    "            # Compute the value of the state x for each action u of the MDP action space\n",
    "            if x not in mdp.terminal_states:\n",
    "                v_temp = []\n",
    "                for u in mdp.action_space.actions:\n",
    "                    # Process sum of the values of the neighbouring states\n",
    "                    summ = 0\n",
    "                    for y in range(mdp.nb_states):\n",
    "                        summ = summ + mdp.P[x, u, y] * v_old[y]\n",
    "                    v_temp.append(mdp.r[x, u] + mdp.gamma * summ)\n",
    "\n",
    "                # Select the highest state value among those computed\n",
    "                v[x] = np.max(v_temp)\n",
    "\n",
    "        # Test if convergence has been reached\n",
    "        if (np.linalg.norm(v - v_old)) < 0.01:\n",
    "            stop = True\n",
    "        v_list.append(np.linalg.norm(v))\n",
    "\n",
    "    if render:\n",
    "        policy = get_policy_from_v(mdp, v)\n",
    "        mdp.set_render_func(mdp.draw_v_pi, lambda draw: draw(v, policy))\n",
    "        mdp.render()\n",
    "        video_recorder.capture_frame()\n",
    "\n",
    "\n",
    "    video_recorder.close()\n",
    "    return v, v_list"
   ]
  },
  {
   "cell_type": "markdown",
   "id": "21abe348",
   "metadata": {
    "id": "o9eR8ClAmsGH"
   },
   "source": [
    "Let us run it on the previously defined MDP"
   ]
  },
  {
   "cell_type": "code",
   "execution_count": null,
   "id": "e6537508",
   "metadata": {
    "colab": {
     "base_uri": "https://localhost:8080/",
     "height": 1000
    },
    "id": "2PTk3t-tmoE4",
    "outputId": "b3d7cf5c-3d99-4d15-b36d-084820563cf2"
   },
   "outputs": [
    {
     "data": {
      "application/vnd.jupyter.widget-view+json": {
       "model_id": "ed7fd9fb485f4dd39cbc5823199abaeb",
       "version_major": 2,
       "version_minor": 0
      },
      "text/plain": [
       "Output()"
      ]
     },
     "metadata": {},
     "output_type": "display_data"
    }
   ],
   "source": [
    "v, v_list = value_iteration_v(env, render=True)"
   ]
  },
  {
   "cell_type": "code",
   "execution_count": null,
   "id": "1f1d4212",
   "metadata": {
    "colab": {
     "base_uri": "https://localhost:8080/",
     "height": 17
    },
    "id": "gQI6BSI99CxZ",
    "outputId": "fa196e0a-4643-4d77-a184-210985ab0213"
   },
   "outputs": [
    {
     "data": {
      "text/html": [
       "<video src=\"./videos/ValueIterationV.mp4\" controls  >\n",
       "      Your browser does not support the <code>video</code> element.\n",
       "    </video>"
      ],
      "text/plain": [
       "<IPython.core.display.Video object>"
      ]
     },
     "metadata": {},
     "output_type": "display_data"
    }
   ],
   "source": [
    "display(Video(filename=\"./videos/ValueIterationV.mp4\"))"
   ]
  },
  {
   "cell_type": "markdown",
   "id": "373063a5",
   "metadata": {
    "id": "MdWqPhuHE8cd"
   },
   "source": [
    "### Value iteration with the $Q$ function ###"
   ]
  },
  {
   "cell_type": "markdown",
   "id": "bbd998ff",
   "metadata": {
    "id": "K09BVcjDFTSZ"
   },
   "source": [
    "\n",
    "The state-action value function $Q^{\\pi}(s,a)$ defines the value of being in state $s$, taking action $a$ then following policy $\\pi$. The Bellman Optimality Equation for $Q^*$ is\n",
    "$$ Q^*(s,a) =  r(s,a) + \\gamma \\sum_{y} P(s,a,y) \\max_{a'}Q^*(y,a'). $$ \n"
   ]
  },
  {
   "cell_type": "markdown",
   "id": "01b93050",
   "metadata": {
    "id": "ga2GQ666FZLv"
   },
   "source": [
    "**Question:** By taking inspiration from the `value_iteration_v(mdp)` function above, fill the blank (given with '\\#Q[x,u]=...') in the code of `value_iteration_q(mdp)`."
   ]
  },
  {
   "cell_type": "code",
   "execution_count": null,
   "id": "68bfc51f",
   "metadata": {},
   "outputs": [
    {
     "name": "stdout",
     "output_type": "stream",
     "text": [
      "<TimeLimit<MazeMDPEnv<MazeMDP-v0>>>\n"
     ]
    }
   ],
   "source": [
    "print(env)"
   ]
  },
  {
   "cell_type": "code",
   "execution_count": null,
   "id": "5e6ca7f2",
   "metadata": {
    "id": "TnL0la4Vatk0"
   },
   "outputs": [],
   "source": [
    "\n",
    "# ------------------ Value Iteration with the Q function ---------------------#\n",
    "# Given a MDP, this algorithm computes the optimal action value function Q\n",
    "# It then derives the optimal policy based on this function\n",
    "\n",
    "\n",
    "def value_iteration_q(mdp: MazeMDPEnv, render: bool = True) -> Tuple[np.ndarray, List[float]]:\n",
    "    q = np.zeros((mdp.nb_states, mdp.action_space.size))  # initial action values are set to 0\n",
    "    q_list = []\n",
    "    stop = False\n",
    "\n",
    "    \n",
    "\n",
    "    if render:\n",
    "        mdp.init_draw(\"Value iteration Q\")\n",
    "\n",
    "    while not stop:\n",
    "        qold = q.copy()\n",
    "\n",
    "        if render:\n",
    "            mdp.draw_v(q, title=\"Value iteration Q\")\n",
    "\n",
    "        for x in range(mdp.nb_states):\n",
    "            if x not in mdp.terminal_states:\n",
    "                for u in mdp.action_space.actions:\n",
    "                    summ = 0\n",
    "                    for y in range(mdp.nb_states):\n",
    "                        summ += mdp.P[x, u, y] * np.max(qold[y, :])\n",
    "                        \n",
    "                    q[x,u]= mdp.r[x, u] + mdp.gamma * summ\n",
    "                    \n",
    "\n",
    "        if (np.linalg.norm(q - qold)) <= 0.01:\n",
    "            stop = True\n",
    "        q_list.append(np.linalg.norm(q))\n",
    "\n",
    "    if render:\n",
    "        mdp.draw_v(q, title=\"Value iteration Q\")\n",
    "        mdp.mdp.plotter.video_writer.release()\n",
    "\n",
    "    return q, q_list\n"
   ]
  },
  {
   "cell_type": "markdown",
   "id": "aa309999",
   "metadata": {
    "id": "_RrcM7TkoPos"
   },
   "source": [
    "Once you are done, run it."
   ]
  },
  {
   "cell_type": "code",
   "execution_count": null,
   "id": "498a59bb",
   "metadata": {
    "colab": {
     "base_uri": "https://localhost:8080/",
     "height": 1000
    },
    "id": "JVLEEwPwoUee",
    "outputId": "b472f5b8-ea3b-4b21-a9ad-1e22e0c67e95"
   },
   "outputs": [
    {
     "data": {
      "application/vnd.jupyter.widget-view+json": {
       "model_id": "3f72d20f7a404500b1514d9514f6d56c",
       "version_major": 2,
       "version_minor": 0
      },
      "text/plain": [
       "Output()"
      ]
     },
     "metadata": {},
     "output_type": "display_data"
    }
   ],
   "source": [
    "q, q_list = value_iteration_q(env, render=True)"
   ]
  },
  {
   "cell_type": "code",
   "execution_count": null,
   "id": "e26c035d",
   "metadata": {
    "id": "8ngkVo-y9gCG"
   },
   "outputs": [
    {
     "name": "stdout",
     "output_type": "stream",
     "text": [
      "Converting videos/ValueiterationQ.avi\n"
     ]
    },
    {
     "name": "stderr",
     "output_type": "stream",
     "text": [
      "ffmpeg version 4.3.4-0+deb11u1 Copyright (c) 2000-2021 the FFmpeg developers\n",
      "  built with gcc 10 (Debian 10.2.1-6)\n",
      "  configuration: --prefix=/usr --extra-version=0+deb11u1 --toolchain=hardened --libdir=/usr/lib/x86_64-linux-gnu --incdir=/usr/include/x86_64-linux-gnu --arch=amd64 --enable-gpl --disable-stripping --enable-avresample --disable-filter=resample --enable-gnutls --enable-ladspa --enable-libaom --enable-libass --enable-libbluray --enable-libbs2b --enable-libcaca --enable-libcdio --enable-libcodec2 --enable-libdav1d --enable-libflite --enable-libfontconfig --enable-libfreetype --enable-libfribidi --enable-libgme --enable-libgsm --enable-libjack --enable-libmp3lame --enable-libmysofa --enable-libopenjpeg --enable-libopenmpt --enable-libopus --enable-libpulse --enable-librabbitmq --enable-librsvg --enable-librubberband --enable-libshine --enable-libsnappy --enable-libsoxr --enable-libspeex --enable-libsrt --enable-libssh --enable-libtheora --enable-libtwolame --enable-libvidstab --enable-libvorbis --enable-libvpx --enable-libwavpack --enable-libwebp --enable-libx265 --enable-libxml2 --enable-libxvid --enable-libzmq --enable-libzvbi --enable-lv2 --enable-omx --enable-openal --enable-opencl --enable-opengl --enable-sdl2 --enable-pocketsphinx --enable-libmfx --enable-libdc1394 --enable-libdrm --enable-libiec61883 --enable-chromaprint --enable-frei0r --enable-libx264 --enable-shared\n",
      "  libavutil      56. 51.100 / 56. 51.100\n",
      "  libavcodec     58. 91.100 / 58. 91.100\n",
      "  libavformat    58. 45.100 / 58. 45.100\n",
      "  libavdevice    58. 10.100 / 58. 10.100\n",
      "  libavfilter     7. 85.100 /  7. 85.100\n",
      "  libavresample   4.  0.  0 /  4.  0.  0\n",
      "  libswscale      5.  7.100 /  5.  7.100\n",
      "  libswresample   3.  7.100 /  3.  7.100\n",
      "  libpostproc    55.  7.100 / 55.  7.100\n",
      "Input #0, avi, from 'videos/ValueiterationQ.avi':\n",
      "  Metadata:\n",
      "    encoder         : Lavf58.76.100\n",
      "  Duration: 00:00:02.40, start: 0.000000, bitrate: 1294 kb/s\n",
      "    Stream #0:0: Video: mjpeg (Baseline) (MJPG / 0x47504A4D), yuvj420p(pc, bt470bg/unknown/unknown), 500x500, 1390 kb/s, 5 fps, 5 tbr, 5 tbn, 5 tbc\n",
      "Stream mapping:\n",
      "  Stream #0:0 -> #0:0 (mjpeg (native) -> h264 (libx264))\n",
      "Press [q] to stop, [?] for help\n",
      "[libx264 @ 0x55d5b41c2ac0] using cpu capabilities: MMX2 SSE2Fast SSSE3 SSE4.2 AVX FMA3 BMI2 AVX2\n",
      "[libx264 @ 0x55d5b41c2ac0] profile High, level 2.2, 4:2:0, 8-bit\n",
      "[libx264 @ 0x55d5b41c2ac0] 264 - core 160 r3011 cde9a93 - H.264/MPEG-4 AVC codec - Copyleft 2003-2020 - http://www.videolan.org/x264.html - options: cabac=1 ref=3 deblock=1:0:0 analyse=0x3:0x113 me=hex subme=7 psy=1 psy_rd=1.00:0.00 mixed_ref=1 me_range=16 chroma_me=1 trellis=1 8x8dct=1 cqm=0 deadzone=21,11 fast_pskip=1 chroma_qp_offset=-2 threads=16 lookahead_threads=2 sliced_threads=0 nr=0 decimate=1 interlaced=0 bluray_compat=0 constrained_intra=0 bframes=3 b_pyramid=2 b_adapt=1 b_bias=0 direct=1 weightb=1 open_gop=0 weightp=2 keyint=250 keyint_min=5 scenecut=40 intra_refresh=0 rc_lookahead=40 rc=crf mbtree=1 crf=19.0 qcomp=0.60 qpmin=0 qpmax=69 qpstep=4 ip_ratio=1.40 aq=1:1.00\n",
      "Output #0, mp4, to 'videos/ValueiterationQ.mp4':\n",
      "  Metadata:\n",
      "    encoder         : Lavf58.45.100\n",
      "    Stream #0:0: Video: h264 (libx264) (avc1 / 0x31637661), yuvj420p(pc), 500x500, q=-1--1, 5 fps, 10240 tbn, 5 tbc\n",
      "    Metadata:\n",
      "      encoder         : Lavc58.91.100 libx264\n",
      "    Side data:\n",
      "      cpb: bitrate max/min/avg: 0/0/0 buffer size: 0 vbv_delay: N/A\n",
      "frame=   12 fps=0.0 q=-1.0 Lsize=      88kB time=00:00:01.80 bitrate= 399.4kbits/s speed=39.6x    \n",
      "video:87kB audio:0kB subtitle:0kB other streams:0kB global headers:0kB muxing overhead: 1.027416%\n",
      "[libx264 @ 0x55d5b41c2ac0] frame I:1     Avg QP:11.48  size: 25934\n",
      "[libx264 @ 0x55d5b41c2ac0] frame P:9     Avg QP:16.17  size:  6859\n",
      "[libx264 @ 0x55d5b41c2ac0] frame B:2     Avg QP:15.16  size:   306\n",
      "[libx264 @ 0x55d5b41c2ac0] consecutive B-frames: 75.0%  0.0% 25.0%  0.0%\n",
      "[libx264 @ 0x55d5b41c2ac0] mb I  I16..4: 57.7% 10.5% 31.7%\n",
      "[libx264 @ 0x55d5b41c2ac0] mb P  I16..4:  7.4%  1.7%  2.9%  P16..4: 10.0%  2.0%  0.9%  0.0%  0.0%    skip:75.2%\n",
      "[libx264 @ 0x55d5b41c2ac0] mb B  I16..4:  1.0%  0.1%  0.0%  B16..8:  5.5%  0.1%  0.0%  direct: 0.0%  skip:93.2%  L0:39.9% L1:60.1% BI: 0.0%\n",
      "[libx264 @ 0x55d5b41c2ac0] 8x8 transform intra:12.4% inter:73.0%\n",
      "[libx264 @ 0x55d5b41c2ac0] coded y,uvDC,uvAC intra: 18.2% 19.7% 17.1% inter: 5.7% 7.0% 6.6%\n",
      "[libx264 @ 0x55d5b41c2ac0] i16 v,h,dc,p: 64% 35%  1%  0%\n",
      "[libx264 @ 0x55d5b41c2ac0] i8 v,h,dc,ddl,ddr,vr,hd,vl,hu: 32% 13% 40%  1%  1%  3%  3%  3%  3%\n",
      "[libx264 @ 0x55d5b41c2ac0] i4 v,h,dc,ddl,ddr,vr,hd,vl,hu: 35% 28% 19%  3%  2%  4%  3%  4%  3%\n",
      "[libx264 @ 0x55d5b41c2ac0] i8c dc,h,v,p: 76% 11% 12%  1%\n",
      "[libx264 @ 0x55d5b41c2ac0] Weighted P-Frames: Y:0.0% UV:0.0%\n",
      "[libx264 @ 0x55d5b41c2ac0] ref P L0: 86.5%  2.9%  7.9%  2.7%\n",
      "[libx264 @ 0x55d5b41c2ac0] ref B L0: 70.1% 21.4%  8.6%\n",
      "[libx264 @ 0x55d5b41c2ac0] kb/s:294.24\n"
     ]
    },
    {
     "data": {
      "text/html": [
       "<video alt=\"videos/ValueiterationQ.mp4\" autoplay\n",
       "                    loop controls style=\"height: 400px;\">\n",
       "                    <source src=\"data:video/mp4;base64,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\" type=\"video/mp4\" />\n",
       "                </video>"
      ],
      "text/plain": [
       "<IPython.core.display.HTML object>"
      ]
     },
     "metadata": {},
     "output_type": "display_data"
    }
   ],
   "source": [
    "show_videos(\"videos/\", prefix=\"ValueiterationQ\")"
   ]
  },
  {
   "cell_type": "markdown",
   "id": "8aeb2d98",
   "metadata": {
    "id": "BN6zdsd9F_dn"
   },
   "source": [
    "## Policy Iteration ##"
   ]
  },
  {
   "cell_type": "markdown",
   "id": "718b388b",
   "metadata": {
    "id": "1R1x-PDzGH_5"
   },
   "source": [
    "\n",
    "The **policy iteration** algorithm is more complicated than **value iteration**.\n",
    "Given a MDP and a policy $\\pi$, **policy iteration** iterates the following steps: \n",
    "\n",
    "*   Evaluate policy $\\pi$: compute $V$ or $Q$ based on the policy $\\pi$;\n",
    "*   Improve policy $\\pi$: compute a better policy based on $V$ or $Q$.\n",
    "\n",
    "This process is repeated until convergence, i.e. when the policy cannot be improved anymore.\n"
   ]
  },
  {
   "cell_type": "markdown",
   "id": "d2d4902e",
   "metadata": {
    "id": "XiiWPQO2GlKy"
   },
   "source": [
    "### Policy iteration with the $V$ function ###"
   ]
  },
  {
   "cell_type": "markdown",
   "id": "59b1e121",
   "metadata": {
    "id": "4L0IiPkNGryB"
   },
   "source": [
    "When using $V$, $V^{\\pi}(s)$ is the expected return when starting from state $s$ and following policy $\\pi$. It is processed based on the Bellman Optimality Equation for deterministic policies:\n",
    "\n",
    "$$V^\\pi(s) = r(s, \\pi(s)) + \\gamma \\sum_{y \\in S}P(s, \\pi(s), y)V^\\pi(y),$$\n",
    "\n",
    "\n",
    "where:\n",
    "\n",
    "*   $\\pi$ is a deterministic policy, meaning that in a state $s$, the agent always selects the same action,\n",
    "*   $V^\\pi(y)$ is the value of the state $y$ under policy $\\pi$.\n",
    "\n",
    "\n",
    "Thus, given a policy $\\pi$, one must first compute its value function $V^\\pi(s)$ for all states $s$ iterating the Bellman Optimality Equation until convergence, that is using **value iteration**.\n",
    "Then, one must determine if policy $\\pi$ can be improved based on $V$. For that, in each state $s$, one can compute the Q-value $Q(s,a)$ of applying action $a$ and then following policy $\\pi$ based on the just computed $V^\\pi$, and replace the action $\\pi(s)$ with $\\arg\\max_a Q(s,a)$.\n"
   ]
  },
  {
   "cell_type": "markdown",
   "id": "1c3426e8",
   "metadata": {
    "id": "1ifSjTGpJsBd"
   },
   "source": [
    "\n",
    "In order to facilitate the coding of **policy iteration** algorithms, we first define a set of useful functions.\n",
    "\n",
    "The `improve_policy_from_v(mdp, v, policy)` function is very similar to the `get_policy_from_v(v)` function which was given above. The main difference is that it takes a policy as argument and improves this policy when possible, thus is is more in the spirit of the `policy improvement` step of **policy iteration**. But both functions can be used interchangeably.\n",
    "\n",
    "The functions `evaluate_one_step_v(mdp, v, policy)`, where `mdp` is a given MDP, `v` is some value function in this MDP and `policy` is some policy and the function `evaluate_v(mdp, policy)` are also given. These functions are used to build the value function $V^\\pi$ corresponding to policy $\\pi$.\n"
   ]
  },
  {
   "cell_type": "code",
   "execution_count": null,
   "id": "9494bb71",
   "metadata": {
    "id": "WTHPccOTaTMM"
   },
   "outputs": [],
   "source": [
    "def improve_policy_from_v(mdp: MazeMDPEnv, v: np.ndarray, policy: np.ndarray) -> np.ndarray:\n",
    "    # Improves a policy given the state values\n",
    "    for x in range(mdp.nb_states):  # for each state x\n",
    "        # Compute the value of the state x for each action u of the MDP action space\n",
    "        if x not in mdp.terminal_states:\n",
    "            v_temp = np.zeros(mdp.action_space.size)\n",
    "            for u in mdp.action_space.actions:\n",
    "                # Process sum of the values of the neighbouring states\n",
    "                summ = 0\n",
    "                for y in range(mdp.nb_states):\n",
    "                    summ = summ + mdp.P[x, u, y] * v[y]\n",
    "                v_temp[u] = mdp.r[x, u] + mdp.gamma * summ\n",
    "\n",
    "            for u in mdp.action_space.actions:\n",
    "                if v_temp[u] > v_temp[policy[x]]:\n",
    "                    policy[x] = u\n",
    "    return policy"
   ]
  },
  {
   "cell_type": "code",
   "execution_count": null,
   "id": "b1fee20f",
   "metadata": {
    "id": "gTFXjB2laYEt"
   },
   "outputs": [],
   "source": [
    "def evaluate_one_step_v(mdp: MazeMDPEnv, v: np.ndarray, policy: np.ndarray) -> np.ndarray:\n",
    "    # Outputs the state value function after one step of policy evaluation\n",
    "    # Corresponds to one application of the Bellman Operator\n",
    "    v_new = np.zeros(mdp.nb_states)  # initial state values are set to 0\n",
    "    for x in range(mdp.nb_states):  # for each state x\n",
    "        # Compute the value of the state x for each action u of the MDP action space\n",
    "        if x not in mdp.terminal_states:\n",
    "            # Process sum of the values of the neighbouring states\n",
    "            summ = 0\n",
    "            for y in range(mdp.nb_states):\n",
    "                summ = summ + mdp.P[x, policy[x], y] * v[y]\n",
    "            v_new[x] = mdp.r[x, policy[x]] + mdp.gamma * summ\n",
    "    return v_new\n",
    "𝑉𝜋(𝑦),"
   ]
  },
  {
   "cell_type": "code",
   "execution_count": null,
   "id": "7ffb8471",
   "metadata": {
    "id": "8gb9BGM1aa7p"
   },
   "outputs": [],
   "source": [
    "def evaluate_v(mdp: MazeMDPEnv, policy: np.ndarray) -> np.ndarray:\n",
    "    # Outputs the state value function of a policy\n",
    "    v = np.zeros(mdp.nb_states)  # initial state values are set to 0\n",
    "    stop = False\n",
    "    while not stop:\n",
    "        vold = v.copy()\n",
    "        v = evaluate_one_step_v(mdp, vold, policy)\n",
    "\n",
    "        # Test if convergence has been reached\n",
    "        if (np.linalg.norm(v - vold)) < 0.01:\n",
    "            stop = True\n",
    "    return v\n"
   ]
  },
  {
   "cell_type": "markdown",
   "id": "ae418405",
   "metadata": {
    "id": "xpvHat5dqAvl"
   },
   "source": [
    "To perform **policy iteration** we also need an initial random policy."
   ]
  },
  {
   "cell_type": "code",
   "execution_count": null,
   "id": "0a1ed24b",
   "metadata": {
    "id": "E2E3k7-vdV81"
   },
   "outputs": [],
   "source": [
    "from mazemdp import random_policy"
   ]
  },
  {
   "cell_type": "markdown",
   "id": "a693d216",
   "metadata": {
    "id": "g6gyHWWoMF4i"
   },
   "source": [
    "**Question:** By using the above functions, fill the code of the `policy_iteration_v(mdp)` function below."
   ]
  },
  {
   "cell_type": "code",
   "execution_count": null,
   "id": "67958517",
   "metadata": {
    "id": "XR3FHBGZa5qp"
   },
   "outputs": [],
   "source": [
    "# ---------------- Policy Iteration with the V function -----------------#\n",
    "# Given an MDP, this algorithm simultaneously computes \n",
    "# the optimal state value function V and the optimal policy\n",
    "\n",
    "def policy_iteration_v(mdp: MazeMDPEnv, render: bool = True) -> Tuple[np.ndarray, List[float]]:\n",
    "    # policy iteration over the v function\n",
    "    v = np.zeros(mdp.nb_states)  # initial state values are set to 0\n",
    "    v_list = []\n",
    "    policy = random_policy(mdp)\n",
    "\n",
    "    stop = False\n",
    "\n",
    "    if render:\n",
    "        mdp.init_draw(\"Policy iteration V\")\n",
    "\n",
    "    while not stop:\n",
    "        vold = v.copy()\n",
    "        # Step 1 : Policy Evaluation\n",
    "        v = evaluate_v(mdp, policy)\n",
    "\n",
    "        if render:\n",
    "            mdp.draw_v_pi(v, policy, title=\"Policy iteration V\")\n",
    "\n",
    "        # Step 2 : Policy Improvement\n",
    "        # À compléter...  \n",
    "        policy = improve_policy_from_v(mdp, v, policy)\n",
    "        \n",
    "        # Check convergence\n",
    "        if (np.linalg.norm(v - vold)) < 0.01:\n",
    "            stop = True\n",
    "        v_list.append(np.linalg.norm(v))\n",
    "\n",
    "    if render:\n",
    "        mdp.draw_v_pi(v, policy, title=\"Policy iteration V\")\n",
    "        mdp.mdp.plotter.video_writer.release()\n",
    "\n",
    "    return v, v_list\n"
   ]
  },
  {
   "cell_type": "markdown",
   "id": "e39a654f",
   "metadata": {
    "id": "sNCykfE9qKlH"
   },
   "source": [
    "And finally run it."
   ]
  },
  {
   "cell_type": "code",
   "execution_count": null,
   "id": "ecf2732b",
   "metadata": {
    "colab": {
     "base_uri": "https://localhost:8080/",
     "height": 785
    },
    "id": "fxzgX6UFqOcX",
    "outputId": "01b1ed30-6a70-4750-df36-903e71c15d1a"
   },
   "outputs": [
    {
     "data": {
      "application/vnd.jupyter.widget-view+json": {
       "model_id": "68ef36d1bded48f2b2cf8bc07cbd1ab7",
       "version_major": 2,
       "version_minor": 0
      },
      "text/plain": [
       "Output()"
      ]
     },
     "metadata": {},
     "output_type": "display_data"
    }
   ],
   "source": [
    "v, v_list = policy_iteration_v(env, render=True)"
   ]
  },
  {
   "cell_type": "code",
   "execution_count": null,
   "id": "27b0cfbb",
   "metadata": {
    "colab": {
     "base_uri": "https://localhost:8080/",
     "height": 438
    },
    "id": "iV8QlyRz9u8F",
    "outputId": "48b17bcd-eb2e-47a8-95c7-23c9e2384e3c"
   },
   "outputs": [
    {
     "name": "stdout",
     "output_type": "stream",
     "text": [
      "Converting videos/PolicyiterationV.avi\n"
     ]
    },
    {
     "name": "stderr",
     "output_type": "stream",
     "text": [
      "ffmpeg version 4.3.4-0+deb11u1 Copyright (c) 2000-2021 the FFmpeg developers\n",
      "  built with gcc 10 (Debian 10.2.1-6)\n",
      "  configuration: --prefix=/usr --extra-version=0+deb11u1 --toolchain=hardened --libdir=/usr/lib/x86_64-linux-gnu --incdir=/usr/include/x86_64-linux-gnu --arch=amd64 --enable-gpl --disable-stripping --enable-avresample --disable-filter=resample --enable-gnutls --enable-ladspa --enable-libaom --enable-libass --enable-libbluray --enable-libbs2b --enable-libcaca --enable-libcdio --enable-libcodec2 --enable-libdav1d --enable-libflite --enable-libfontconfig --enable-libfreetype --enable-libfribidi --enable-libgme --enable-libgsm --enable-libjack --enable-libmp3lame --enable-libmysofa --enable-libopenjpeg --enable-libopenmpt --enable-libopus --enable-libpulse --enable-librabbitmq --enable-librsvg --enable-librubberband --enable-libshine --enable-libsnappy --enable-libsoxr --enable-libspeex --enable-libsrt --enable-libssh --enable-libtheora --enable-libtwolame --enable-libvidstab --enable-libvorbis --enable-libvpx --enable-libwavpack --enable-libwebp --enable-libx265 --enable-libxml2 --enable-libxvid --enable-libzmq --enable-libzvbi --enable-lv2 --enable-omx --enable-openal --enable-opencl --enable-opengl --enable-sdl2 --enable-pocketsphinx --enable-libmfx --enable-libdc1394 --enable-libdrm --enable-libiec61883 --enable-chromaprint --enable-frei0r --enable-libx264 --enable-shared\n",
      "  libavutil      56. 51.100 / 56. 51.100\n",
      "  libavcodec     58. 91.100 / 58. 91.100\n",
      "  libavformat    58. 45.100 / 58. 45.100\n",
      "  libavdevice    58. 10.100 / 58. 10.100\n",
      "  libavfilter     7. 85.100 /  7. 85.100\n",
      "  libavresample   4.  0.  0 /  4.  0.  0\n",
      "  libswscale      5.  7.100 /  5.  7.100\n",
      "  libswresample   3.  7.100 /  3.  7.100\n",
      "  libpostproc    55.  7.100 / 55.  7.100\n",
      "Input #0, avi, from 'videos/PolicyiterationV.avi':\n",
      "  Metadata:\n",
      "    encoder         : Lavf58.76.100\n",
      "  Duration: 00:00:01.60, start: 0.000000, bitrate: 802 kb/s\n",
      "    Stream #0:0: Video: mjpeg (Baseline) (MJPG / 0x47504A4D), yuvj420p(pc, bt470bg/unknown/unknown), 500x500, 5 fps, 5 tbr, 5 tbn, 5 tbc\n",
      "Stream mapping:\n",
      "  Stream #0:0 -> #0:0 (mjpeg (native) -> h264 (libx264))\n",
      "Press [q] to stop, [?] for help\n",
      "[libx264 @ 0x55f0ad200bc0] using cpu capabilities: MMX2 SSE2Fast SSSE3 SSE4.2 AVX FMA3 BMI2 AVX2\n",
      "[libx264 @ 0x55f0ad200bc0] profile High, level 2.2, 4:2:0, 8-bit\n",
      "[libx264 @ 0x55f0ad200bc0] 264 - core 160 r3011 cde9a93 - H.264/MPEG-4 AVC codec - Copyleft 2003-2020 - http://www.videolan.org/x264.html - options: cabac=1 ref=3 deblock=1:0:0 analyse=0x3:0x113 me=hex subme=7 psy=1 psy_rd=1.00:0.00 mixed_ref=1 me_range=16 chroma_me=1 trellis=1 8x8dct=1 cqm=0 deadzone=21,11 fast_pskip=1 chroma_qp_offset=-2 threads=16 lookahead_threads=2 sliced_threads=0 nr=0 decimate=1 interlaced=0 bluray_compat=0 constrained_intra=0 bframes=3 b_pyramid=2 b_adapt=1 b_bias=0 direct=1 weightb=1 open_gop=0 weightp=2 keyint=250 keyint_min=5 scenecut=40 intra_refresh=0 rc_lookahead=40 rc=crf mbtree=1 crf=19.0 qcomp=0.60 qpmin=0 qpmax=69 qpstep=4 ip_ratio=1.40 aq=1:1.00\n",
      "Output #0, mp4, to 'videos/PolicyiterationV.mp4':\n",
      "  Metadata:\n",
      "    encoder         : Lavf58.45.100\n",
      "    Stream #0:0: Video: h264 (libx264) (avc1 / 0x31637661), yuvj420p(pc), 500x500, q=-1--1, 5 fps, 10240 tbn, 5 tbc\n",
      "    Metadata:\n",
      "      encoder         : Lavc58.91.100 libx264\n",
      "    Side data:\n",
      "      cpb: bitrate max/min/avg: 0/0/0 buffer size: 0 vbv_delay: N/A\n",
      "frame=    8 fps=0.0 q=-1.0 Lsize=      26kB time=00:00:01.00 bitrate= 216.0kbits/s speed=15.8x    \n",
      "video:25kB audio:0kB subtitle:0kB other streams:0kB global headers:0kB muxing overhead: 3.439295%\n",
      "[libx264 @ 0x55f0ad200bc0] frame I:1     Avg QP: 7.10  size:  9787\n",
      "[libx264 @ 0x55f0ad200bc0] frame P:5     Avg QP:16.34  size:  3075\n",
      "[libx264 @ 0x55f0ad200bc0] frame B:2     Avg QP:11.41  size:   130\n",
      "[libx264 @ 0x55f0ad200bc0] consecutive B-frames: 62.5%  0.0% 37.5%  0.0%\n",
      "[libx264 @ 0x55f0ad200bc0] mb I  I16..4: 83.0%  0.7% 16.3%\n",
      "[libx264 @ 0x55f0ad200bc0] mb P  I16..4:  9.1%  2.9%  2.9%  P16..4:  6.0%  0.2%  0.0%  0.0%  0.0%    skip:78.9%\n",
      "[libx264 @ 0x55f0ad200bc0] mb B  I16..4:  1.1%  0.8%  0.0%  B16..8:  3.1%  0.0%  0.0%  direct: 0.1%  skip:94.8%  L0:26.4% L1:72.8% BI: 0.8%\n",
      "[libx264 @ 0x55f0ad200bc0] 8x8 transform intra:9.4% inter:61.7%\n",
      "[libx264 @ 0x55f0ad200bc0] coded y,uvDC,uvAC intra: 8.4% 0.0% 0.0% inter: 2.5% 0.0% 0.0%\n",
      "[libx264 @ 0x55f0ad200bc0] i16 v,h,dc,p: 71% 27%  2%  0%\n",
      "[libx264 @ 0x55f0ad200bc0] i8 v,h,dc,ddl,ddr,vr,hd,vl,hu: 35% 18% 45%  0%  0%  0%  0%  0%  0%\n",
      "[libx264 @ 0x55f0ad200bc0] i4 v,h,dc,ddl,ddr,vr,hd,vl,hu: 38% 26% 21%  3%  2%  2%  4%  2%  2%\n",
      "[libx264 @ 0x55f0ad200bc0] i8c dc,h,v,p: 100%  0%  0%  0%\n",
      "[libx264 @ 0x55f0ad200bc0] Weighted P-Frames: Y:0.0% UV:0.0%\n",
      "[libx264 @ 0x55f0ad200bc0] ref P L0: 88.0%  5.9%  5.0%  1.0%\n",
      "[libx264 @ 0x55f0ad200bc0] ref B L0: 83.8% 16.2%\n",
      "[libx264 @ 0x55f0ad200bc0] kb/s:127.10\n"
     ]
    },
    {
     "data": {
      "text/html": [
       "<video alt=\"videos/PolicyiterationV.mp4\" autoplay\n",
       "                    loop controls style=\"height: 400px;\">\n",
       "                    <source src=\"data:video/mp4;base64,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\" type=\"video/mp4\" />\n",
       "                </video>"
      ],
      "text/plain": [
       "<IPython.core.display.HTML object>"
      ]
     },
     "metadata": {},
     "output_type": "display_data"
    }
   ],
   "source": [
    "show_videos(\"videos/\", prefix=\"PolicyiterationV\")"
   ]
  },
  {
   "cell_type": "markdown",
   "id": "dedd92b3",
   "metadata": {
    "id": "f64zjARKIT7s"
   },
   "source": [
    "### Policy iteration with the $Q$ function ###"
   ]
  },
  {
   "cell_type": "markdown",
   "id": "49e11516",
   "metadata": {
    "id": "hfOgv6znIbF6"
   },
   "source": [
    "\n",
    "The **policy iteration** algorithm with the $Q$ function is the same as with the $V$ function, but the policy improvement step is more straightforward.\n",
    "\n",
    "When using $Q$, the Bellman Optimality Equation with deterministic policy $\\pi$ for $Q$ becomes: \n",
    "$$Q^{\\pi}(s,a) = r(s,a) + \\gamma \\sum_{y \\in S}P(s,a,y)Q^{\\pi}(y,\\pi(y)).$$\n",
    "\n",
    "The policy can then be updated as follows:\n",
    "$$\\pi^{(t+1)}(s) = \\arg\\max_aQ^{\\pi^{(t)}}(s,a).$$\n"
   ]
  },
  {
   "cell_type": "markdown",
   "id": "f6bbc271",
   "metadata": {
    "id": "_S-sF4ynqlUF"
   },
   "source": [
    "First, we need to determine a policy from the $Q$ function."
   ]
  },
  {
   "cell_type": "markdown",
   "id": "bf293b53",
   "metadata": {
    "id": "vDeb82mSJ2gJ"
   },
   "source": [
    "**Question:**  fill the `get_policy_from_q(q)` function, where $q$ is the state-action value function."
   ]
  },
  {
   "cell_type": "code",
   "execution_count": null,
   "id": "a09bb775",
   "metadata": {
    "id": "rfNl_xDlSYIy"
   },
   "outputs": [],
   "source": [
    "def get_policy_from_q(q: np.ndarray) -> np.ndarray:\n",
    "    # À compléter...\n",
    "    policy = np.zeros(len(q), dtype = np.int64)\n",
    "    for i, x in enumerate(q):\n",
    "        policy[i] = np.argmax(x)\n",
    "    return policy\n"
   ]
  },
  {
   "cell_type": "markdown",
   "id": "01c23518",
   "metadata": {
    "id": "4F_ueGD5K4jI"
   },
   "source": [
    "**Question:** By drawing inspiration on the functions give with the $v$ function, fill the code of the `evaluate_one_step_q(mdp, q, policy)` function below, where $q$ is some action value function, and the `evaluate_q(mdp, policy)` function."
   ]
  },
  {
   "cell_type": "code",
   "execution_count": null,
   "id": "00e08a5e",
   "metadata": {
    "id": "7zSOoqvJafLo"
   },
   "outputs": [],
   "source": [
    "def evaluate_one_step_q(mdp: MazeMDPEnv, q: np.ndarray, policy: np.ndarray) -> np.ndarray:\n",
    "    # Outputs the state value function after one step of policy evaluation\n",
    "    qnew = np.zeros((mdp.nb_states, mdp.action_space.size))  # initial action values are set to 0\n",
    "    for x in range(mdp.nb_states):  # for each state x\n",
    "        # Compute the value of the state x for each action u of the MDP action space\n",
    "        if x not in mdp.terminal_states:\n",
    "            for u in mdp.action_space.actions:\n",
    "                # Process sum of the values of the neighbouring states\n",
    "                summ = 0\n",
    "                for y in range(mdp.nb_states):\n",
    "                    \n",
    "                    summ += mdp.P[x, u, y] * q[y, policy[y]]\n",
    "                    \n",
    "                qnew[x, u] = mdp.r[x, u] + mdp.gamma * summ\n",
    "    return qnew"
   ]
  },
  {
   "cell_type": "code",
   "execution_count": null,
   "id": "b81a2f29",
   "metadata": {
    "id": "Phlt5QfbaiWw"
   },
   "outputs": [],
   "source": [
    "def evaluate_q(mdp: MazeMDPEnv, policy: np.ndarray) -> np.ndarray:\n",
    "    # Outputs the state value function of a policy\n",
    "    q = np.zeros((mdp.nb_states, mdp.action_space.size))  # initial action values are set to 0\n",
    "    stop = False\n",
    "    steps = 0\n",
    "    while not stop:\n",
    "        qold = q.copy()\n",
    "        steps += 1\n",
    "        q = evaluate_one_step_q(mdp, q, policy)\n",
    "\n",
    "        # Test if convergence has been reached\n",
    "        if (np.linalg.norm(q - qold)) < 0.01:\n",
    "            stop = True\n",
    "    print(\"steps\", steps )\n",
    "    return q"
   ]
  },
  {
   "cell_type": "markdown",
   "id": "110af1dc",
   "metadata": {
    "id": "pO99FFnqL51O"
   },
   "source": [
    "**Question:** By using the above functions, fill the code of the `policy_iteration_q(mdp)` function below."
   ]
  },
  {
   "cell_type": "code",
   "execution_count": null,
   "id": "f05f1b28",
   "metadata": {
    "id": "kM5vOv5XazEq"
   },
   "outputs": [],
   "source": [
    "# ---------------- Policy Iteration with the Q function -----------------#\n",
    "# Given a MDP, this algorithm simultaneously computes \n",
    "# the optimal action value function Q and the optimal policy\n",
    "\n",
    "def policy_iteration_q(mdp: MazeMDPEnv, render: bool = True) -> Tuple[np.ndarray, List[float]]:\n",
    "    \"\"\"policy iteration over the q function.\"\"\"\n",
    "    q = np.zeros((mdp.nb_states, mdp.action_space.size))  # initial action values are set to 0\n",
    "    q_list = []\n",
    "    policy = random_policy(mdp)\n",
    "\n",
    "    stop = False\n",
    "\n",
    "    if render:\n",
    "        mdp.init_draw(\"Policy iteration Q\")\n",
    "\n",
    "    while not stop:\n",
    "        qold = q.copy()\n",
    "\n",
    "        if render:\n",
    "            mdp.draw_v(q, title=\"Policy iteration Q\")\n",
    "\n",
    "        # Step 1 : Policy evaluation\n",
    "        q = evaluate_q(mdp, policy)\n",
    "\n",
    "        # Step 2 : Policy improvement\n",
    "        policy = get_policy_from_q(q)\n",
    "        # Check convergence\n",
    "        if (np.linalg.norm(q - qold)) <= 0.01:\n",
    "            stop = True\n",
    "        q_list.append(np.linalg.norm(q))\n",
    "\n",
    "    if render:\n",
    "        mdp.draw_v_pi(q, get_policy_from_q(q), title=\"Policy iteration Q\")\n",
    "    return q, q_list\n"
   ]
  },
  {
   "cell_type": "markdown",
   "id": "c01d089d",
   "metadata": {
    "id": "XR999T8Hq1c8"
   },
   "source": [
    "Finally, run it."
   ]
  },
  {
   "cell_type": "code",
   "execution_count": null,
   "id": "d197c871",
   "metadata": {
    "colab": {
     "base_uri": "https://localhost:8080/",
     "height": 785
    },
    "id": "jJ9YfuNEq43H",
    "outputId": "51c81a0b-57b4-4e85-f1cb-c82d8072e6a4"
   },
   "outputs": [
    {
     "data": {
      "application/vnd.jupyter.widget-view+json": {
       "model_id": "55058547620b489ca546080ac56f41c4",
       "version_major": 2,
       "version_minor": 0
      },
      "text/plain": [
       "Output()"
      ]
     },
     "metadata": {},
     "output_type": "display_data"
    },
    {
     "name": "stdout",
     "output_type": "stream",
     "text": [
      "steps 3\n",
      "steps 5\n",
      "steps 6\n",
      "steps 6\n",
      "steps 7\n",
      "steps 8\n",
      "steps 9\n",
      "steps 11\n",
      "steps 11\n"
     ]
    }
   ],
   "source": [
    "q, q_list = policy_iteration_q(env, render=True)"
   ]
  },
  {
   "cell_type": "code",
   "execution_count": null,
   "id": "ea1ba85d",
   "metadata": {},
   "outputs": [
    {
     "name": "stdout",
     "output_type": "stream",
     "text": [
      "[2.193171219946131, 2.9839678282448023, 3.8571311670722324, 4.280326917421146, 4.7439793213293, 5.088663305719097, 5.35160810724845, 5.542788470241021, 5.542788470241021]\n"
     ]
    }
   ],
   "source": [
    "print(q_list)"
   ]
  },
  {
   "cell_type": "code",
   "execution_count": null,
   "id": "0a940e78",
   "metadata": {
    "id": "59Vve3vg9zR0"
   },
   "outputs": [
    {
     "name": "stdout",
     "output_type": "stream",
     "text": [
      "Converting videos/PolicyiterationQ.avi\n"
     ]
    },
    {
     "name": "stderr",
     "output_type": "stream",
     "text": [
      "ffmpeg version 4.3.4-0+deb11u1 Copyright (c) 2000-2021 the FFmpeg developers\n",
      "  built with gcc 10 (Debian 10.2.1-6)\n",
      "  configuration: --prefix=/usr --extra-version=0+deb11u1 --toolchain=hardened --libdir=/usr/lib/x86_64-linux-gnu --incdir=/usr/include/x86_64-linux-gnu --arch=amd64 --enable-gpl --disable-stripping --enable-avresample --disable-filter=resample --enable-gnutls --enable-ladspa --enable-libaom --enable-libass --enable-libbluray --enable-libbs2b --enable-libcaca --enable-libcdio --enable-libcodec2 --enable-libdav1d --enable-libflite --enable-libfontconfig --enable-libfreetype --enable-libfribidi --enable-libgme --enable-libgsm --enable-libjack --enable-libmp3lame --enable-libmysofa --enable-libopenjpeg --enable-libopenmpt --enable-libopus --enable-libpulse --enable-librabbitmq --enable-librsvg --enable-librubberband --enable-libshine --enable-libsnappy --enable-libsoxr --enable-libspeex --enable-libsrt --enable-libssh --enable-libtheora --enable-libtwolame --enable-libvidstab --enable-libvorbis --enable-libvpx --enable-libwavpack --enable-libwebp --enable-libx265 --enable-libxml2 --enable-libxvid --enable-libzmq --enable-libzvbi --enable-lv2 --enable-omx --enable-openal --enable-opencl --enable-opengl --enable-sdl2 --enable-pocketsphinx --enable-libmfx --enable-libdc1394 --enable-libdrm --enable-libiec61883 --enable-chromaprint --enable-frei0r --enable-libx264 --enable-shared\n",
      "  libavutil      56. 51.100 / 56. 51.100\n",
      "  libavcodec     58. 91.100 / 58. 91.100\n",
      "  libavformat    58. 45.100 / 58. 45.100\n",
      "  libavdevice    58. 10.100 / 58. 10.100\n",
      "  libavfilter     7. 85.100 /  7. 85.100\n",
      "  libavresample   4.  0.  0 /  4.  0.  0\n",
      "  libswscale      5.  7.100 /  5.  7.100\n",
      "  libswresample   3.  7.100 /  3.  7.100\n",
      "  libpostproc    55.  7.100 / 55.  7.100\n",
      "[avi @ 0x558ded873780] Format avi detected only with low score of 1, misdetection possible!\n",
      "videos/PolicyiterationQ.avi: Invalid data found when processing input\n"
     ]
    },
    {
     "data": {
      "text/html": [],
      "text/plain": [
       "<IPython.core.display.HTML object>"
      ]
     },
     "metadata": {},
     "output_type": "display_data"
    }
   ],
   "source": [
    "show_videos(\"videos/\", prefix=\"PolicyiterationQ\")"
   ]
  },
  {
   "cell_type": "markdown",
   "id": "77454445",
   "metadata": {
    "id": "edD-FVlaLvnK"
   },
   "source": [
    "### Study part: Experimental comparisons"
   ]
  },
  {
   "cell_type": "markdown",
   "id": "cca5885f",
   "metadata": {
    "id": "RSnI34THM4Af"
   },
   "source": [
    "We will now compare the efficiency of the various dynamic programming methods using either the $V$ or the  $Q$ functions.\n",
    "\n",
    "In all your dymanic programming functions, add code to count the number of iterations and the number of elementary $V$ or $Q$ updates. Use the provided `mazemdp.Chrono` class to measure the time taken. You may generate various mazes of various sizes to figure out the influence of the maze topology.\n",
    "\n",
    "Build a table where you compare the various dymanic programming functions in terms of iterations, elementary operations and time taken.\n",
    "\n",
    "You can run the `plot_convergence_vi_pi(...)` function provided below to visualize the convergence of the various algorithms.\n"
   ]
  },
  {
   "cell_type": "code",
   "execution_count": null,
   "id": "3dbf1697",
   "metadata": {
    "id": "NkfRPpT6a7D6"
   },
   "outputs": [],
   "source": [
    "\n",
    "# ---- plot learning curves of Q-Learning and Sarsa using epsilon-greedy and softmax -----#\n",
    "\n",
    "def plot_convergence_vi_pi(m, render):\n",
    "    v, v_list1 = value_iteration_v(m, render)\n",
    "    q, q_list1 = value_iteration_q(m, render)\n",
    "    v, v_list2 = policy_iteration_v(m, render)\n",
    "    q, q_list2 = policy_iteration_q(m, render)\n",
    "\n",
    "    plt.plot(range(len(v_list1)), v_list1, label='value_iteration_v')\n",
    "    plt.plot(range(len(q_list1)), q_list1, label='value_iteration_q')\n",
    "    plt.plot(range(len(v_list2)), v_list2, label='policy_iteration_v')\n",
    "    plt.plot(range(len(q_list2)), q_list2, label='policy_iteration_q')\n",
    "\n",
    "    plt.xlabel('Number of episodes')\n",
    "    plt.ylabel('Norm of V or Q value')\n",
    "    plt.legend(loc='upper right')\n",
    "    # plt.savefig(\"comparison_DP.png\")\n",
    "    plt.title(\"Comparison of convergence rates\")\n",
    "    plt.show()"
   ]
  },
  {
   "cell_type": "markdown",
   "id": "d84b16d5",
   "metadata": {
    "id": "nTOUNa1IMb6G"
   },
   "source": [
    "**Question:** Run the code below and visualize the results of the different algorithms"
   ]
  },
  {
   "cell_type": "code",
   "execution_count": null,
   "id": "1b22c238",
   "metadata": {
    "id": "zBrTUnLMopHk"
   },
   "outputs": [
    {
     "data": {
      "image/png": "[encoded data removed]",
      "text/plain": [
       "<Figure size 640x480 with 1 Axes>"
      ]
     },
     "metadata": {},
     "output_type": "display_data"
    }
   ],
   "source": [
    "plot_convergence_vi_pi(env, False)\n"
   ]
  },
  {
   "cell_type": "code",
   "execution_count": null,
   "id": "41db228e",
   "metadata": {},
   "outputs": [],
   "source": [
    "# Completer temps de calcul et jouer avec dimension et different tailles\n",
    "\n",
    "dimensions =\n",
    "\n",
    "env = gym.make(\"MazeMDP-v0\", kwargs={\"width\": 5, \"height\": 5, \"ratio\": 0.2})\n",
    "env.reset()\n",
    "\n",
    "# in dynamic programming, there is no agent moving in the environment\n",
    "env.set_no_agent()\n",
    "env.init_draw(\"The maze\")"
   ]
  },
  {
   "cell_type": "markdown",
   "id": "9a7a492f",
   "metadata": {
    "id": "S9LttlIXsB9o"
   },
   "source": [
    "\n",
    "Given the results above, discuss the relative computational efficiency of these methods."
   ]
  },
  {
   "cell_type": "markdown",
   "id": "c4a7297e",
   "metadata": {
    "id": "0UGNtcOgsQgZ"
   },
   "source": [
    "### Study part: Generalized Policy Iteration"
   ]
  },
  {
   "cell_type": "markdown",
   "id": "a70adab3",
   "metadata": {
    "id": "l89FvxifsVib"
   },
   "source": [
    "Code the **generalized policy iteration** algorithm and study the influence of the number of evaluation steps between each improvement step"
   ]
  },
  {
   "cell_type": "code",
   "execution_count": null,
   "id": "9f79edd7",
   "metadata": {},
   "outputs": [],
   "source": [
    "def evaluate_q_k(mdp: MazeMDPEnv, policy: np.ndarray, k: int64) -> np.ndarray:\n",
    "    # Outputs the state value function of a policy\n",
    "    q = np.zeros((mdp.nb_states, mdp.action_space.size))  # initial action values are set to 0\n",
    "    stop = False\n",
    "    while not stop:\n",
    "        qold = q.copy()\n",
    "        \n",
    "        q = evaluate_one_step_q(mdp, q, policy)\n",
    "\n",
    "        # Test if convergence has been reached\n",
    "        if (np.linalg.norm(q - qold)) < 0.01:\n",
    "            stop = True\n",
    "    return q\n",
    "\n",
    "# ---------------- Policy Iteration with the Q function -----------------#\n",
    "# Given a MDP, this algorithm simultaneously computes \n",
    "# the optimal action value function Q and the optimal policy\n",
    "\n",
    "def generalized_policy_iteration_q(mdp: MazeMDPEnv, render: bool = True) -> Tuple[np.ndarray, List[float]]:\n",
    "    \"\"\"policy iteration over the q function.\"\"\"\n",
    "    q = np.zeros((mdp.nb_states, mdp.action_space.size))  # initial action values are set to 0\n",
    "    q_list = []\n",
    "    policy = random_policy(mdp)\n",
    "\n",
    "    stop = False\n",
    "\n",
    "    if render:\n",
    "        mdp.init_draw(\"Policy iteration Q\")\n",
    "\n",
    "    while not stop:\n",
    "        qold = q.copy()\n",
    "\n",
    "        if render:\n",
    "            mdp.draw_v(q, title=\"Policy iteration Q\")\n",
    "\n",
    "        # Step 1 : Policy evaluation\n",
    "        q = evaluate_q(mdp, policy)\n",
    "\n",
    "        # Step 2 : Policy improvement\n",
    "        policy = get_policy_from_q(q)\n",
    "        # Check convergence\n",
    "        if (np.linalg.norm(q - qold)) <= 0.01:\n",
    "            stop = True\n",
    "        q_list.append(np.linalg.norm(q))\n",
    "\n",
    "    if render:\n",
    "        mdp.draw_v_pi(q, get_policy_from_q(q), title=\"Policy iteration Q\")\n",
    "    return q, q_list\n"
   ]
  }
 ],
 "metadata": {
  "jupytext": {
   "formats": "ipynb,Rmd"
  },
  "kernelspec": {
   "display_name": "Python 3.10.4 64-bit",
   "language": "python",
   "name": "python3"
  },
  "language_info": {
   "codemirror_mode": {
    "name": "ipython",
    "version": 3
   },
   "file_extension": ".py",
   "mimetype": "text/x-python",
   "name": "python",
   "nbconvert_exporter": "python",
   "pygments_lexer": "ipython3",
   "version": "3.10.4"
  },
  "vscode": {
   "interpreter": {
    "hash": "916dbcbb3f70747c44a77c7bcd40155683ae19c65e1c03b4aa3499c5328201f1"
   }
  }
 },
 "nbformat": 4,
 "nbformat_minor": 5
}
