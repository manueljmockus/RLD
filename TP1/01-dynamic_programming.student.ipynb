{
 "cells": [
  {
   "cell_type": "markdown",
   "id": "febec091",
   "metadata": {
    "id": "pvLBhVirapw-"
   },
   "source": [
    "# Outlook #"
   ]
  },
  {
   "cell_type": "markdown",
   "id": "73de3b7d",
   "metadata": {
    "id": "CDnFYaehas2B"
   },
   "source": [
    "In this colab we will investigate the **value iteration** and **policy iteration** algorithms in a maze environment."
   ]
  },
  {
   "cell_type": "markdown",
   "id": "6682d547",
   "metadata": {
    "id": "ILQS3CjXDRO0"
   },
   "source": [
    "# Installation #"
   ]
  },
  {
   "cell_type": "code",
   "execution_count": 1,
   "id": "15b22c60",
   "metadata": {
    "colab": {
     "base_uri": "https://localhost:8080/"
    },
    "id": "IU5THTsX5Fmw",
    "outputId": "46edb215-bb06-4af2-971d-2919613f7619"
   },
   "outputs": [],
   "source": [
    "if get_ipython().__class__.__module__ == \"google.colab._shell\":\n",
    "    !apt-get install ffmpeg"
   ]
  },
  {
   "cell_type": "code",
   "execution_count": 2,
   "id": "938429e4",
   "metadata": {
    "colab": {
     "base_uri": "https://localhost:8080/"
    },
    "id": "H6bDf5E_Hh-3",
    "outputId": "f84c573f-e9dd-44fc-e9f2-1a6bf1b8ba74"
   },
   "outputs": [
    {
     "name": "stdout",
     "output_type": "stream",
     "text": [
      "Matplotlib backend: module://matplotlib_inline.backend_inline\n"
     ]
    }
   ],
   "source": [
    "try:\n",
    "    import my_gym\n",
    "except ModuleNotFoundError as e:\n",
    "    !pip install git+https://github.com/osigaud/my_gym"
   ]
  },
  {
   "cell_type": "code",
   "execution_count": 3,
   "id": "33aae6af",
   "metadata": {
    "id": "PE58RHs9dEEh"
   },
   "outputs": [],
   "source": [
    "import os\n",
    "from typing import Tuple, List\n",
    "\n",
    "import numpy as np\n",
    "import matplotlib.pyplot as plt\n",
    "\n",
    "from mazemdp.maze_plotter import show_videos\n",
    "from my_gym.envs.maze_mdp import MazeMDPEnv\n",
    "\n",
    "# For visualization\n",
    "os.environ[\"VIDEO_FPS\"] = \"5\"\n",
    "if not os.path.isdir(\"./videos\"):\n",
    "    os.mkdir(\"./videos\")\n",
    "\n",
    "from IPython.display import Video"
   ]
  },
  {
   "cell_type": "markdown",
   "id": "d43187c8",
   "metadata": {
    "id": "Sa3oM2C1CqLl"
   },
   "source": [
    "# Agents and MDPs #\n",
    "\n"
   ]
  },
  {
   "cell_type": "markdown",
   "id": "4faaea4a",
   "metadata": {
    "id": "eL3B_dpu-H-f"
   },
   "source": [
    "\n",
    "A reinforcement learning agent interacts with an environment represented as a Markov Decision Process (MDP). It is defined by a tuple $(S, A, P, r, \\gamma)$ where $S$ is the state space, $A$ is the action space, $P(state_t, action_t, state_{t+1})$ is the transition function, $r(state_t, action_t)$ is the reward function and $\\gamma \\in [0, 1]$ is the discount factor.\n",
    "\n"
   ]
  },
  {
   "cell_type": "markdown",
   "id": "ae177846",
   "metadata": {
    "id": "A-5EU9BalMQI"
   },
   "source": [
    "In what follows we import code to create an MDP corresponding to a random maze (see https://github.com/osigaud/SimpleMazeMDP for documentation)."
   ]
  },
  {
   "cell_type": "code",
   "execution_count": 37,
   "id": "c9476f2a",
   "metadata": {
    "id": "OvSGrPnKlXxf"
   },
   "outputs": [
    {
     "data": {
      "application/vnd.jupyter.widget-view+json": {
       "model_id": "2294edb44c1c4f2195188b334c898ee6",
       "version_major": 2,
       "version_minor": 0
      },
      "text/plain": [
       "Output()"
      ]
     },
     "metadata": {},
     "output_type": "display_data"
    }
   ],
   "source": [
    "import gym\n",
    "import my_gym\n",
    "\n",
    "\n",
    "env = gym.make(\"MazeMDP-v0\", kwargs={\"width\": 7, \"height\": 7, \"ratio\": 0.3})\n",
    "env.reset()\n",
    "\n",
    "# in dynamic programming, there is no agent moving in the environment\n",
    "env.set_no_agent()\n",
    "env.init_draw(\"The maze\")"
   ]
  },
  {
   "cell_type": "markdown",
   "id": "547662a6",
   "metadata": {
    "id": "pL-L0w1ECuah"
   },
   "source": [
    "# Dynamic programming #"
   ]
  },
  {
   "cell_type": "markdown",
   "id": "17fe8bf1",
   "metadata": {
    "id": "jHUlXv9TCha4"
   },
   "source": [
    "\n",
    "The goal of an RL agent is to find the optimal behaviour, defined by a policy $\\pi$ that assigns an action (or distribution over actions) to each state so as to maximize the agent's total expected reward. In order to estimate how good a state is, either a state value function $V(x)$ or a state-action value function $Q(x,u)$ is used.\n",
    "\n",
    "Dynamic programming algorithms are used for planning, they require a full knowledge of the MDP from the agent (in contrast to \"true\" RL where the agent does not know the transition and reward functions).\n",
    "They find the optimal policy by computing a value function $V$ or an action-value function $Q$ over the state space or state-action space of the given MDP. **Value iteration** and **policy iteration** are two standard dynamic programming algorithms. You should study both of them using both $V$ and $Q$, as these algorithms contain the basic building blocks for most RL algorithms.\n"
   ]
  },
  {
   "cell_type": "markdown",
   "id": "5ab2f6b8",
   "metadata": {
    "id": "LTW9XJD8DjsD"
   },
   "source": [
    "## Value Iteration ##"
   ]
  },
  {
   "cell_type": "markdown",
   "id": "533e1dcd",
   "metadata": {
    "id": "jpjrIBqEDmyl"
   },
   "source": [
    "### Value Iteration with the V function ###\n"
   ]
  },
  {
   "cell_type": "markdown",
   "id": "8b8f42a3",
   "metadata": {
    "id": "8eSkbueDDrw2"
   },
   "source": [
    "\n",
    "When using the $V$ function, **value iteration** aims at finding the optimal values $V^*$ based on the Bellman Optimality Equation:\n",
    "$$V^*(s) = \\max_a \\big[ r(s,a) + \\gamma \\sum_{y \\in S} P(s,a,y)V^*(y) \\big],$$\n",
    "\n",
    "where:\n",
    "\n",
    "*   $r(s, a)$ is the reward obtained from taking action $a$ in state $s$,\n",
    "*   $P(s, a, y)$ is the probability of reaching state $y$ when taking action $a$ in state $s$, \n",
    "*   $\\gamma \\in [0,1]$ is a discount factor defining the relative importance of long term rewards over short term ones (the closer to 0, the more the agent focuses on immediate rewards).\n",
    "\n",
    "In practice, we start with an initial value function $V^0$ (for instance, the values of all states are 0), and then we iterate for all states $s$\n",
    "\n",
    "$$V^{i+1}(s) = \\max_a \\big[ r(s,a) + \\gamma \\sum_{y \\in S} P(s,a,y)V^i(y) \\big],$$\n",
    "\n",
    "until the values converge, that is $\\forall s, V^{i+1}(s) \\approx V^i(s)$. It is shown that at convergence, $\\forall s, V^i(s)= V^*(s)$."
   ]
  },
  {
   "cell_type": "markdown",
   "id": "c9bc781f",
   "metadata": {
    "id": "8cwhDCVznRfx"
   },
   "source": [
    "To visualize the policy obtained from **value iteration**, we need to first define the `get_policy_from_V()` function"
   ]
  },
  {
   "cell_type": "code",
   "execution_count": 38,
   "id": "cef40df0",
   "metadata": {
    "id": "uLJ6ccP0aNpR"
   },
   "outputs": [],
   "source": [
    "def get_policy_from_v(mdp: MazeMDPEnv, v: np.ndarray) -> np.ndarray:\n",
    "    # Outputs a policy given the state values\n",
    "    policy = np.zeros(mdp.nb_states)  # initial state values are set to 0\n",
    "    for x in range(mdp.nb_states):  # for each state x\n",
    "        if x not in mdp.terminal_states:\n",
    "            # Compute the value of the state x for each action u of the MDP action space\n",
    "            v_temp = []\n",
    "            for u in mdp.action_space.actions:\n",
    "                # Process sum of the values of the neighbouring states\n",
    "                summ = 0\n",
    "                for y in range(mdp.nb_states):\n",
    "                    summ = summ + mdp.P[x, u, y] * v[y]\n",
    "                v_temp.append(mdp.r[x, u] + mdp.gamma * summ)\n",
    "            policy[x] = np.argmax(v_temp)\n",
    "    return policy"
   ]
  },
  {
   "cell_type": "markdown",
   "id": "e4d63213",
   "metadata": {
    "id": "pX2cGPT9nNga"
   },
   "source": [
    "\n",
    "The `value_iteration_v(mdp)` function below provides the code of **value iteration** using the $V$ function. It is given as an example from which you can derive other instances of dynamic programming algorithms. Look at it more closely, this will help for later questions:\n",
    "\n",
    "* you can ignore the `mdp.new_render()` and `mdp.render(...)` functions which are here to provide the visualization of the iterations.\n",
    "* find in the code the loop over states, the main loop that performs these updates until the values don't change significantly anymore, the main update equation. Found them? OK, you can continue...\n"
   ]
  },
  {
   "cell_type": "code",
   "execution_count": 39,
   "id": "d457e025",
   "metadata": {
    "id": "FUurUq7val7K"
   },
   "outputs": [],
   "source": [
    "from gym.wrappers.monitoring.video_recorder import VideoRecorder\n",
    "\n",
    "def value_iteration_v(mdp: MazeMDPEnv, render: bool = True) -> Tuple[np.ndarray, List[float]]:\n",
    "    # Value Iteration using the state value v\n",
    "    v = np.zeros(mdp.nb_states)  # initial state values are set to 0\n",
    "    v_list = []\n",
    "    stop = False\n",
    "    v_iterations = 0\n",
    "    iterations = 0\n",
    "\n",
    "    video_recorder = VideoRecorder(mdp, \"videos/ValueIterationV.mp4\", enabled=render)\n",
    "    mdp.set_title(\"Value iteration V\")\n",
    "    if render:\n",
    "        mdp.render()\n",
    "        video_recorder.capture_frame()\n",
    "    mdp.set_render_func(mdp.draw_v, lambda draw: draw(v))\n",
    "\n",
    "    while not stop:\n",
    "        v_old = v.copy()\n",
    "        if render:\n",
    "            mdp.render()\n",
    "            video_recorder.capture_frame()\n",
    "\n",
    "        for x in range(mdp.nb_states):  # for each state x\n",
    "            # Compute the value of the state x for each action u of the MDP action space\n",
    "            if x not in mdp.terminal_states:\n",
    "                v_temp = []\n",
    "                for u in mdp.action_space.actions:\n",
    "                    # Process sum of the values of the neighbouring states\n",
    "                    summ = 0\n",
    "                    for y in range(mdp.nb_states):\n",
    "                        summ = summ + mdp.P[x, u, y] * v_old[y]\n",
    "                    v_temp.append(mdp.r[x, u] + mdp.gamma * summ)\n",
    "\n",
    "                # Select the highest state value among those computed\n",
    "                v[x] = np.max(v_temp)\n",
    "                v_iterations += 1\n",
    "        iterations += 1\n",
    "\n",
    "        # Test if convergence has been reached\n",
    "        if (np.linalg.norm(v - v_old)) < 0.01:\n",
    "            stop = True\n",
    "        v_list.append(np.linalg.norm(v))\n",
    "\n",
    "    if render:\n",
    "        policy = get_policy_from_v(mdp, v)\n",
    "        mdp.set_render_func(mdp.draw_v_pi, lambda draw: draw(v, policy))\n",
    "        mdp.render()\n",
    "        video_recorder.capture_frame()\n",
    "\n",
    "\n",
    "    video_recorder.close()\n",
    "    return v, v_list, v_iterations, iterations"
   ]
  },
  {
   "cell_type": "markdown",
   "id": "21abe348",
   "metadata": {
    "id": "o9eR8ClAmsGH"
   },
   "source": [
    "Let us run it on the previously defined MDP"
   ]
  },
  {
   "cell_type": "code",
   "execution_count": 40,
   "id": "e6537508",
   "metadata": {
    "colab": {
     "base_uri": "https://localhost:8080/",
     "height": 1000
    },
    "id": "2PTk3t-tmoE4",
    "outputId": "b3d7cf5c-3d99-4d15-b36d-084820563cf2"
   },
   "outputs": [
    {
     "data": {
      "application/vnd.jupyter.widget-view+json": {
       "model_id": "6be4a44ff2c54b2788d11d6e516d9d4c",
       "version_major": 2,
       "version_minor": 0
      },
      "text/plain": [
       "Output()"
      ]
     },
     "metadata": {},
     "output_type": "display_data"
    },
    {
     "name": "stdout",
     "output_type": "stream",
     "text": [
      "476 14\n"
     ]
    }
   ],
   "source": [
    "v, v_list, v_updates, iterations = value_iteration_v(env, render=True)\n",
    "print(v_updates, iterations)"
   ]
  },
  {
   "cell_type": "markdown",
   "id": "373063a5",
   "metadata": {
    "id": "MdWqPhuHE8cd"
   },
   "source": [
    "### Value iteration with the $Q$ function ###"
   ]
  },
  {
   "cell_type": "markdown",
   "id": "bbd998ff",
   "metadata": {
    "id": "K09BVcjDFTSZ"
   },
   "source": [
    "\n",
    "The state-action value function $Q^{\\pi}(s,a)$ defines the value of being in state $s$, taking action $a$ then following policy $\\pi$. The Bellman Optimality Equation for $Q^*$ is\n",
    "$$ Q^*(s,a) =  r(s,a) + \\gamma \\sum_{y} P(s,a,y) \\max_{a'}Q^*(y,a'). $$ \n"
   ]
  },
  {
   "cell_type": "markdown",
   "id": "01b93050",
   "metadata": {
    "id": "ga2GQ666FZLv"
   },
   "source": [
    "**Question:** By taking inspiration from the `value_iteration_v(mdp)` function above, fill the blank (given with '\\#Q[x,u]=...') in the code of `value_iteration_q(mdp)`."
   ]
  },
  {
   "cell_type": "code",
   "execution_count": 41,
   "id": "5e6ca7f2",
   "metadata": {
    "id": "TnL0la4Vatk0"
   },
   "outputs": [],
   "source": [
    "\n",
    "# ------------------ Value Iteration with the Q function ---------------------#\n",
    "# Given a MDP, this algorithm computes the optimal action value function Q\n",
    "# It then derives the optimal policy based on this function\n",
    "\n",
    "\n",
    "from re import A\n",
    "\n",
    "\n",
    "def value_iteration_q(mdp: MazeMDPEnv, render: bool = True) -> Tuple[np.ndarray, List[float]]:\n",
    "    q = np.zeros((mdp.nb_states, mdp.action_space.size))  # initial action values are set to 0\n",
    "    q_list = []\n",
    "    stop = False\n",
    "\n",
    "    q_updates = 0\n",
    "    iterations = 0\n",
    "\n",
    "    if render:\n",
    "        mdp.init_draw(\"Value iteration Q\")\n",
    "\n",
    "    while not stop:\n",
    "        qold = q.copy()\n",
    "\n",
    "        if render:\n",
    "            mdp.draw_v(q, title=\"Value iteration Q\")\n",
    "\n",
    "        for x in range(mdp.nb_states):\n",
    "            if x not in mdp.terminal_states:\n",
    "                for u in mdp.action_space.actions:\n",
    "                    summ = 0\n",
    "                    for y in range(mdp.nb_states):\n",
    "                        summ += mdp.P[x, u, y] * np.max(qold[y, :])\n",
    "                        \n",
    "                    q[x,u]= mdp.r[x, u] + mdp.gamma * summ\n",
    "                    q_updates += 1\n",
    "\n",
    "        if (np.linalg.norm(q - qold)) <= 0.01:\n",
    "            stop = True\n",
    "        q_list.append(np.linalg.norm(q))\n",
    "        iterations += 1\n",
    "\n",
    "    if render:\n",
    "        mdp.draw_v(q, title=\"Value iteration Q\")\n",
    "        mdp.mdp.plotter.video_writer.release()\n",
    "\n",
    "    return q, q_list, q_updates, iterations\n"
   ]
  },
  {
   "cell_type": "markdown",
   "id": "aa309999",
   "metadata": {
    "id": "_RrcM7TkoPos"
   },
   "source": [
    "Once you are done, run it."
   ]
  },
  {
   "cell_type": "code",
   "execution_count": 1,
   "id": "498a59bb",
   "metadata": {
    "colab": {
     "base_uri": "https://localhost:8080/",
     "height": 1000
    },
    "id": "JVLEEwPwoUee",
    "outputId": "b472f5b8-ea3b-4b21-a9ad-1e22e0c67e95"
   },
   "outputs": [
    {
     "ename": "NameError",
     "evalue": "name 'MazeMDPEnv' is not defined",
     "output_type": "error",
     "traceback": [
      "\u001b[0;31m---------------------------------------------------------------------------\u001b[0m",
      "\u001b[0;31mNameError\u001b[0m                                 Traceback (most recent call last)",
      "Cell \u001b[0;32mIn [1], line 9\u001b[0m\n\u001b[1;32m      1\u001b[0m \u001b[38;5;66;03m# ------------------ Value Iteration with the Q function ---------------------#\u001b[39;00m\n\u001b[1;32m      2\u001b[0m \u001b[38;5;66;03m# Given a MDP, this algorithm computes the optimal action value function Q\u001b[39;00m\n\u001b[1;32m      3\u001b[0m \u001b[38;5;66;03m# It then derives the optimal policy based on this function\u001b[39;00m\n\u001b[1;32m      6\u001b[0m \u001b[38;5;28;01mfrom\u001b[39;00m \u001b[38;5;21;01mre\u001b[39;00m \u001b[38;5;28;01mimport\u001b[39;00m A\n\u001b[0;32m----> 9\u001b[0m \u001b[38;5;28;01mdef\u001b[39;00m \u001b[38;5;21mvalue_iteration_q\u001b[39m(mdp: \u001b[43mMazeMDPEnv\u001b[49m, render: \u001b[38;5;28mbool\u001b[39m \u001b[38;5;241m=\u001b[39m \u001b[38;5;28;01mTrue\u001b[39;00m) \u001b[38;5;241m-\u001b[39m\u001b[38;5;241m>\u001b[39m Tuple[np\u001b[38;5;241m.\u001b[39mndarray, List[\u001b[38;5;28mfloat\u001b[39m]]:\n\u001b[1;32m     10\u001b[0m     q \u001b[38;5;241m=\u001b[39m np\u001b[38;5;241m.\u001b[39mzeros((mdp\u001b[38;5;241m.\u001b[39mnb_states, mdp\u001b[38;5;241m.\u001b[39maction_space\u001b[38;5;241m.\u001b[39msize))  \u001b[38;5;66;03m# initial action values are set to 0\u001b[39;00m\n\u001b[1;32m     11\u001b[0m     q_list \u001b[38;5;241m=\u001b[39m []\n",
      "\u001b[0;31mNameError\u001b[0m: name 'MazeMDPEnv' is not defined"
     ]
    }
   ],
   "source": [
    "q, q_list, q_updates, iterations = value_iteration_q(env, render=True)\n",
    "print(q_updates, iterations)"
   ]
  },
  {
   "cell_type": "markdown",
   "id": "8aeb2d98",
   "metadata": {
    "id": "BN6zdsd9F_dn"
   },
   "source": [
    "## Policy Iteration ##"
   ]
  },
  {
   "cell_type": "markdown",
   "id": "718b388b",
   "metadata": {
    "id": "1R1x-PDzGH_5"
   },
   "source": [
    "\n",
    "The **policy iteration** algorithm is more complicated than **value iteration**.\n",
    "Given a MDP and a policy $\\pi$, **policy iteration** iterates the following steps: \n",
    "\n",
    "*   Evaluate policy $\\pi$: compute $V$ or $Q$ based on the policy $\\pi$;\n",
    "*   Improve policy $\\pi$: compute a better policy based on $V$ or $Q$.\n",
    "\n",
    "This process is repeated until convergence, i.e. when the policy cannot be improved anymore.\n"
   ]
  },
  {
   "cell_type": "markdown",
   "id": "d2d4902e",
   "metadata": {
    "id": "XiiWPQO2GlKy"
   },
   "source": [
    "### Policy iteration with the $V$ function ###"
   ]
  },
  {
   "cell_type": "markdown",
   "id": "59b1e121",
   "metadata": {
    "id": "4L0IiPkNGryB"
   },
   "source": [
    "When using $V$, $V^{\\pi}(s)$ is the expected return when starting from state $s$ and following policy $\\pi$. It is processed based on the Bellman Optimality Equation for deterministic policies:\n",
    "\n",
    "$$V^\\pi(s) = r(s, \\pi(s)) + \\gamma \\sum_{y \\in S}P(s, \\pi(s), y)V^\\pi(y),$$\n",
    "\n",
    "\n",
    "where:\n",
    "\n",
    "*   $\\pi$ is a deterministic policy, meaning that in a state $s$, the agent always selects the same action,\n",
    "*   $V^\\pi(y)$ is the value of the state $y$ under policy $\\pi$.\n",
    "\n",
    "\n",
    "Thus, given a policy $\\pi$, one must first compute its value function $V^\\pi(s)$ for all states $s$ iterating the Bellman Optimality Equation until convergence, that is using **value iteration**.\n",
    "Then, one must determine if policy $\\pi$ can be improved based on $V$. For that, in each state $s$, one can compute the Q-value $Q(s,a)$ of applying action $a$ and then following policy $\\pi$ based on the just computed $V^\\pi$, and replace the action $\\pi(s)$ with $\\arg\\max_a Q(s,a)$.\n"
   ]
  },
  {
   "cell_type": "markdown",
   "id": "1c3426e8",
   "metadata": {
    "id": "1ifSjTGpJsBd"
   },
   "source": [
    "\n",
    "In order to facilitate the coding of **policy iteration** algorithms, we first define a set of useful functions.\n",
    "\n",
    "The `improve_policy_from_v(mdp, v, policy)` function is very similar to the `get_policy_from_v(v)` function which was given above. The main difference is that it takes a policy as argument and improves this policy when possible, thus is is more in the spirit of the `policy improvement` step of **policy iteration**. But both functions can be used interchangeably.\n",
    "\n",
    "The functions `evaluate_one_step_v(mdp, v, policy)`, where `mdp` is a given MDP, `v` is some value function in this MDP and `policy` is some policy and the function `evaluate_v(mdp, policy)` are also given. These functions are used to build the value function $V^\\pi$ corresponding to policy $\\pi$.\n"
   ]
  },
  {
   "cell_type": "code",
   "execution_count": 43,
   "id": "9494bb71",
   "metadata": {
    "id": "WTHPccOTaTMM"
   },
   "outputs": [],
   "source": [
    "def improve_policy_from_v(mdp: MazeMDPEnv, v: np.ndarray, policy: np.ndarray) -> np.ndarray:\n",
    "    # Improves a policy given the state values\n",
    "    for x in range(mdp.nb_states):  # for each state x\n",
    "        # Compute the value of the state x for each action u of the MDP action space\n",
    "        if x not in mdp.terminal_states:\n",
    "            v_temp = np.zeros(mdp.action_space.size)\n",
    "            for u in mdp.action_space.actions:\n",
    "                # Process sum of the values of the neighbouring states\n",
    "                summ = 0\n",
    "                for y in range(mdp.nb_states):\n",
    "                    summ = summ + mdp.P[x, u, y] * v[y]\n",
    "                v_temp[u] = mdp.r[x, u] + mdp.gamma * summ\n",
    "\n",
    "            for u in mdp.action_space.actions:\n",
    "                if v_temp[u] > v_temp[policy[x]]:\n",
    "                    policy[x] = u\n",
    "    return policy"
   ]
  },
  {
   "cell_type": "code",
   "execution_count": 44,
   "id": "b1fee20f",
   "metadata": {
    "id": "gTFXjB2laYEt"
   },
   "outputs": [],
   "source": [
    "def evaluate_one_step_v(mdp: MazeMDPEnv, v: np.ndarray, policy: np.ndarray) -> np.ndarray:\n",
    "    # Outputs the state value function after one step of policy evaluation\n",
    "    # Corresponds to one application of the Bellman Operator\n",
    "    v_new = np.zeros(mdp.nb_states)  # initial state values are set to 0\n",
    "    v_updates = 0\n",
    "    for x in range(mdp.nb_states):  # for each state x\n",
    "        # Compute the value of the state x for each action u of the MDP action space\n",
    "        if x not in mdp.terminal_states:\n",
    "            # Process sum of the values of the neighbouring states\n",
    "            summ = 0\n",
    "            for y in range(mdp.nb_states):\n",
    "                summ = summ + mdp.P[x, policy[x], y] * v[y]\n",
    "            v_new[x] = mdp.r[x, policy[x]] + mdp.gamma * summ\n",
    "            v_updates += 1\n",
    "    return v_new, v_updates\n",
    "\n"
   ]
  },
  {
   "cell_type": "code",
   "execution_count": 45,
   "id": "7ffb8471",
   "metadata": {
    "id": "8gb9BGM1aa7p"
   },
   "outputs": [],
   "source": [
    "\n",
    "def evaluate_v(mdp: MazeMDPEnv, policy: np.ndarray) -> np.ndarray:\n",
    "    # Outputs the state value function of a policy\n",
    "    v = np.zeros(mdp.nb_states)  # initial state values are set to 0\n",
    "    stop = False\n",
    "    v_updates = 0\n",
    "    while not stop:\n",
    "        vold = v.copy()\n",
    "        v, v_step_updates = evaluate_one_step_v(mdp, vold, policy)\n",
    "        v_updates += v_step_updates\n",
    "        # Test if convergence has been reached\n",
    "        if (np.linalg.norm(v - vold)) < 0.01:\n",
    "            stop = True\n",
    "    return v, v_updates\n"
   ]
  },
  {
   "cell_type": "markdown",
   "id": "ae418405",
   "metadata": {
    "id": "xpvHat5dqAvl"
   },
   "source": [
    "To perform **policy iteration** we also need an initial random policy."
   ]
  },
  {
   "cell_type": "code",
   "execution_count": 46,
   "id": "0a1ed24b",
   "metadata": {
    "id": "E2E3k7-vdV81"
   },
   "outputs": [],
   "source": [
    "from mazemdp import random_policy"
   ]
  },
  {
   "cell_type": "markdown",
   "id": "a693d216",
   "metadata": {
    "id": "g6gyHWWoMF4i"
   },
   "source": [
    "**Question:** By using the above functions, fill the code of the `policy_iteration_v(mdp)` function below."
   ]
  },
  {
   "cell_type": "code",
   "execution_count": 47,
   "id": "67958517",
   "metadata": {
    "id": "XR3FHBGZa5qp"
   },
   "outputs": [],
   "source": [
    "# ---------------- Policy Iteration with the V function -----------------#\n",
    "# Given an MDP, this algorithm simultaneously computes \n",
    "# the optimal state value function V and the optimal policy\n",
    "\n",
    "def policy_iteration_v(mdp: MazeMDPEnv, render: bool = True) -> Tuple[np.ndarray, List[float]]:\n",
    "    # policy iteration over the v function\n",
    "    v = np.zeros(mdp.nb_states)  # initial state values are set to 0\n",
    "    v_list = []\n",
    "    policy = random_policy(mdp)\n",
    "\n",
    "    stop = False\n",
    "    v_updates_total = 0\n",
    "    iterations = 0\n",
    "\n",
    "    if render:\n",
    "        mdp.init_draw(\"Policy iteration V\")\n",
    "\n",
    "    while not stop:\n",
    "        vold = v.copy()\n",
    "        # Step 1 : Policy Evaluation\n",
    "        v, v_updates = evaluate_v(mdp, policy)\n",
    "        v_updates_total += v_updates\n",
    "        if render:\n",
    "            mdp.draw_v_pi(v, policy, title=\"Policy iteration V\")\n",
    "\n",
    "        # Step 2 : Policy Improvement\n",
    "        # À compléter...  \n",
    "        policy = improve_policy_from_v(mdp, v, policy)\n",
    "        \n",
    "        # Check convergence\n",
    "        if (np.linalg.norm(v - vold)) < 0.01:\n",
    "            stop = True\n",
    "        v_list.append(np.linalg.norm(v))\n",
    "        iterations +=1\n",
    "\n",
    "    if render:\n",
    "        mdp.draw_v_pi(v, policy, title=\"Policy iteration V\")\n",
    "        mdp.mdp.plotter.video_writer.release()\n",
    "\n",
    "    return v, v_list, v_updates_total, iterations\n"
   ]
  },
  {
   "cell_type": "markdown",
   "id": "e39a654f",
   "metadata": {
    "id": "sNCykfE9qKlH"
   },
   "source": [
    "And finally run it."
   ]
  },
  {
   "cell_type": "code",
   "execution_count": 48,
   "id": "ecf2732b",
   "metadata": {
    "colab": {
     "base_uri": "https://localhost:8080/",
     "height": 785
    },
    "id": "fxzgX6UFqOcX",
    "outputId": "01b1ed30-6a70-4750-df36-903e71c15d1a"
   },
   "outputs": [
    {
     "data": {
      "application/vnd.jupyter.widget-view+json": {
       "model_id": "9db3bccdae5e4aa18f0654570e081b51",
       "version_major": 2,
       "version_minor": 0
      },
      "text/plain": [
       "Output()"
      ]
     },
     "metadata": {},
     "output_type": "display_data"
    },
    {
     "name": "stdout",
     "output_type": "stream",
     "text": [
      "3570 11\n"
     ]
    }
   ],
   "source": [
    "v, v_list, v_updates, iterations = policy_iteration_v(env, render=True)\n",
    "print(v_updates, iterations)"
   ]
  },
  {
   "cell_type": "markdown",
   "id": "dedd92b3",
   "metadata": {
    "id": "f64zjARKIT7s"
   },
   "source": [
    "### Policy iteration with the $Q$ function ###"
   ]
  },
  {
   "cell_type": "markdown",
   "id": "49e11516",
   "metadata": {
    "id": "hfOgv6znIbF6"
   },
   "source": [
    "\n",
    "The **policy iteration** algorithm with the $Q$ function is the same as with the $V$ function, but the policy improvement step is more straightforward.\n",
    "\n",
    "When using $Q$, the Bellman Optimality Equation with deterministic policy $\\pi$ for $Q$ becomes: \n",
    "$$Q^{\\pi}(s,a) = r(s,a) + \\gamma \\sum_{y \\in S}P(s,a,y)Q^{\\pi}(y,\\pi(y)).$$\n",
    "\n",
    "The policy can then be updated as follows:\n",
    "$$\\pi^{(t+1)}(s) = \\arg\\max_aQ^{\\pi^{(t)}}(s,a).$$\n"
   ]
  },
  {
   "cell_type": "markdown",
   "id": "f6bbc271",
   "metadata": {
    "id": "_S-sF4ynqlUF"
   },
   "source": [
    "First, we need to determine a policy from the $Q$ function."
   ]
  },
  {
   "cell_type": "markdown",
   "id": "bf293b53",
   "metadata": {
    "id": "vDeb82mSJ2gJ"
   },
   "source": [
    "**Question:**  fill the `get_policy_from_q(q)` function, where $q$ is the state-action value function."
   ]
  },
  {
   "cell_type": "code",
   "execution_count": 49,
   "id": "a09bb775",
   "metadata": {
    "id": "rfNl_xDlSYIy"
   },
   "outputs": [],
   "source": [
    "def get_policy_from_q(q: np.ndarray) -> np.ndarray:\n",
    "    # Outputs a policy given the action values\n",
    "    return np.argmax(q, axis=1)"
   ]
  },
  {
   "cell_type": "markdown",
   "id": "01c23518",
   "metadata": {
    "id": "4F_ueGD5K4jI"
   },
   "source": [
    "**Question:** By drawing inspiration on the functions give with the $v$ function, fill the code of the `evaluate_one_step_q(mdp, q, policy)` function below, where $q$ is some action value function, and the `evaluate_q(mdp, policy)` function."
   ]
  },
  {
   "cell_type": "code",
   "execution_count": 50,
   "id": "00e08a5e",
   "metadata": {
    "id": "7zSOoqvJafLo"
   },
   "outputs": [],
   "source": [
    "def evaluate_one_step_q(mdp: MazeMDPEnv, q: np.ndarray, policy: np.ndarray) -> np.ndarray:\n",
    "    # Outputs the state value function after one step of policy evaluation\n",
    "    qnew = np.zeros((mdp.nb_states, mdp.action_space.size))  # initial action values are set to 0\n",
    "    q_updates = 0\n",
    "    for x in range(mdp.nb_states):  # for each state x\n",
    "        # Compute the value of the state x for each action u of the MDP action space\n",
    "        if x not in mdp.terminal_states:\n",
    "            for u in mdp.action_space.actions:\n",
    "                # Process sum of the values of the neighbouring states\n",
    "                summ = 0\n",
    "                for y in range(mdp.nb_states):\n",
    "                    \n",
    "                    summ += mdp.P[x, u, y] * q[y, policy[y]]\n",
    "                    \n",
    "                qnew[x, u] = mdp.r[x, u] + mdp.gamma * summ\n",
    "                q_updates += 1\n",
    "    return qnew, q_updates"
   ]
  },
  {
   "cell_type": "code",
   "execution_count": 51,
   "id": "b81a2f29",
   "metadata": {
    "id": "Phlt5QfbaiWw"
   },
   "outputs": [],
   "source": [
    "\n",
    "def evaluate_q(mdp: MazeMDPEnv, policy: np.ndarray) -> np.ndarray:\n",
    "    # Outputs the state value function of a policy\n",
    "    q = np.zeros((mdp.nb_states, mdp.action_space.size))  # initial action values are set to 0\n",
    "    stop = False\n",
    "    q_updates = 0\n",
    "    while not stop:\n",
    "        qold = q.copy()\n",
    "        q, q_step_updates = evaluate_one_step_q(mdp, q, policy)\n",
    "        q_updates += q_step_updates\n",
    "        # Test if convergence has been reached\n",
    "        if (np.linalg.norm(q - qold)) < 0.01:\n",
    "            stop = True\n",
    "    return q, q_updates"
   ]
  },
  {
   "cell_type": "markdown",
   "id": "110af1dc",
   "metadata": {
    "id": "pO99FFnqL51O"
   },
   "source": [
    "\n",
    "**Question:** By using the above functions, fill the code of the `policy_iteration_q(mdp)` function below."
   ]
  },
  {
   "cell_type": "code",
   "execution_count": 52,
   "id": "f05f1b28",
   "metadata": {
    "id": "kM5vOv5XazEq"
   },
   "outputs": [],
   "source": [
    "def evaluate_one_step_q(mdp: MazeMDPEnv, q: np.ndarray, policy: np.ndarray) -> np.ndarray:\n",
    "    # Outputs the state value function after one step of policy evaluation\n",
    "    qnew = np.zeros((mdp.nb_states, mdp.action_space.size))  # initial action values are set to 0\n",
    "    q_updates = 0\n",
    "    for x in range(mdp.nb_states):  # for each state x\n",
    "        # Compute the value of the state x for each action u of the MDP action space\n",
    "        if x not in mdp.terminal_states:\n",
    "            for u in mdp.action_space.actions:\n",
    "                # Process sum of the values of the neighbouring states\n",
    "                summ = 0\n",
    "                for y in range(mdp.nb_states):\n",
    "                    \n",
    "                    summ += mdp.P[x, u, y] * q[y, policy[y]]\n",
    "                    \n",
    "                qnew[x, u] = mdp.r[x, u] + mdp.gamma * summ\n",
    "                q_updates += 1\n",
    "    return qnew, q_updates\n",
    "\n",
    "def evaluate_q(mdp: MazeMDPEnv, policy: np.ndarray) -> np.ndarray:\n",
    "    # Outputs the state value function of a policy\n",
    "    q = np.zeros((mdp.nb_states, mdp.action_space.size))  # initial action values are set to 0\n",
    "    stop = False\n",
    "    q_updates = 0\n",
    "    while not stop:\n",
    "        qold = q.copy()\n",
    "        q, q_step_updates = evaluate_one_step_q(mdp, q, policy)\n",
    "        q_updates += q_step_updates\n",
    "        # Test if convergence has been reached\n",
    "        if (np.linalg.norm(q - qold)) < 0.01:\n",
    "            stop = True\n",
    "    return q, q_updates\n",
    "# ---------------- Policy Iteration with the Q function -----------------#\n",
    "# Given a MDP, this algorithm simultaneously computes \n",
    "# the optimal action value function Q and the optimal policy\n",
    "\n",
    "def policy_iteration_q(mdp: MazeMDPEnv, render: bool = True) -> Tuple[np.ndarray, List[float]]:\n",
    "    \"\"\"policy iteration over the q function.\"\"\"\n",
    "    q = np.zeros((mdp.nb_states, mdp.action_space.size))  # initial action values are set to 0\n",
    "    q_list = []\n",
    "    policy = random_policy(mdp)\n",
    "\n",
    "    stop = False\n",
    "    q_total_updates = 0\n",
    "    iterations = 0\n",
    "\n",
    "    if render:\n",
    "        mdp.init_draw(\"Policy iteration Q\")\n",
    "\n",
    "    while not stop:\n",
    "        qold = q.copy()\n",
    "\n",
    "        if render:\n",
    "            mdp.draw_v(q, title=\"Policy iteration Q\")\n",
    "\n",
    "        # Step 1 : Policy evaluation\n",
    "        q, q_updates = evaluate_q(mdp, policy)\n",
    "        q_total_updates += q_updates\n",
    "        # Step 2 : Policy improvement\n",
    "        policy = get_policy_from_q(q)\n",
    "        # Check convergence\n",
    "        if (np.linalg.norm(q - qold)) <= 0.01:\n",
    "            stop = True\n",
    "        q_list.append(np.linalg.norm(q))\n",
    "        iterations += 1\n",
    "\n",
    "    if render:\n",
    "        mdp.draw_v_pi(q, get_policy_from_q(q), title=\"Policy iteration Q\")\n",
    "    return q, q_list, q_total_updates, iterations\n"
   ]
  },
  {
   "cell_type": "markdown",
   "id": "c01d089d",
   "metadata": {
    "id": "XR999T8Hq1c8"
   },
   "source": [
    "Finally, run it."
   ]
  },
  {
   "cell_type": "code",
   "execution_count": 53,
   "id": "d197c871",
   "metadata": {
    "colab": {
     "base_uri": "https://localhost:8080/",
     "height": 785
    },
    "id": "jJ9YfuNEq43H",
    "outputId": "51c81a0b-57b4-4e85-f1cb-c82d8072e6a4"
   },
   "outputs": [
    {
     "data": {
      "application/vnd.jupyter.widget-view+json": {
       "model_id": "042b82f5c3d54b5284ddca3fa2cf677f",
       "version_major": 2,
       "version_minor": 0
      },
      "text/plain": [
       "Output()"
      ]
     },
     "metadata": {},
     "output_type": "display_data"
    },
    {
     "name": "stdout",
     "output_type": "stream",
     "text": [
      "18768 14\n"
     ]
    }
   ],
   "source": [
    "q, q_list, q_updates, iterations = policy_iteration_q(env, render=True)\n",
    "print(q_updates, iterations)"
   ]
  },
  {
   "cell_type": "markdown",
   "id": "77454445",
   "metadata": {
    "id": "edD-FVlaLvnK"
   },
   "source": [
    "### Study part: Experimental comparisons"
   ]
  },
  {
   "cell_type": "markdown",
   "id": "cca5885f",
   "metadata": {
    "id": "RSnI34THM4Af"
   },
   "source": [
    "We will now compare the efficiency of the various dynamic programming methods using either the $V$ or the  $Q$ functions.\n",
    "\n",
    "In all your dymanic programming functions, add code to count the number of iterations and the number of elementary $V$ or $Q$ updates. Use the provided `mazemdp.Chrono` class to measure the time taken. You may generate various mazes of various sizes to figure out the influence of the maze topology.\n",
    "\n",
    "Build a table where you compare the various dymanic programming functions in terms of iterations, elementary operations and time taken.\n",
    "\n",
    "You can run the `plot_convergence_vi_pi(...)` function provided below to visualize the convergence of the various algorithms.\n"
   ]
  },
  {
   "cell_type": "code",
   "execution_count": 54,
   "id": "3dbf1697",
   "metadata": {
    "id": "NkfRPpT6a7D6"
   },
   "outputs": [],
   "source": [
    "\n",
    "# ---- plot learning curves of Q-Learning and Sarsa using epsilon-greedy and softmax -----#\n",
    "\n",
    "def plot_convergence_vi_pi(m, render):\n",
    "    v, v_list1, v_updates1, v_iterations1 = value_iteration_v(m, render)\n",
    "    q, q_list1, v_updates2, v_iterations2 = value_iteration_q(m, render)\n",
    "    v, v_list2, q_updates1, q_iterations1 = policy_iteration_v(m, render)\n",
    "    q, q_list2, q_updates2, q_iterations2 = policy_iteration_q(m, render)\n",
    "\n",
    "    plt.plot(range(len(v_list1)), v_list1, label='value_iteration_v')\n",
    "    plt.plot(range(len(q_list1)), q_list1, label='value_iteration_q')\n",
    "    plt.plot(range(len(v_list2)), v_list2, label='policy_iteration_v')\n",
    "    plt.plot(range(len(q_list2)), q_list2, label='policy_iteration_q')\n",
    "\n",
    "    plt.xlabel('Number of episodes')\n",
    "    plt.ylabel('Norm of V or Q value')\n",
    "    plt.legend(loc='best')\n",
    "    # plt.savefig(\"comparison_DP.png\")\n",
    "    plt.title(\"Comparison of convergence rates\")\n",
    "    plt.show()"
   ]
  },
  {
   "cell_type": "markdown",
   "id": "d84b16d5",
   "metadata": {
    "id": "nTOUNa1IMb6G"
   },
   "source": [
    "**Question:** Run the code below and visualize the results of the different algorithms"
   ]
  },
  {
   "cell_type": "code",
   "execution_count": 55,
   "id": "1b22c238",
   "metadata": {
    "id": "zBrTUnLMopHk"
   },
   "outputs": [
    {
     "data": {
      "application/vnd.jupyter.widget-view+json": {
       "model_id": "65fc52e5c3c94f81a782c7f46034e341",
       "version_major": 2,
       "version_minor": 0
      },
      "text/plain": [
       "Output()"
      ]
     },
     "metadata": {},
     "output_type": "display_data"
    },
    {
     "data": {
      "image/png": "[encoded data removed]",
      "text/plain": [
       "<Figure size 640x480 with 1 Axes>"
      ]
     },
     "metadata": {},
     "output_type": "display_data"
    }
   ],
   "source": [
    "env = gym.make(\"MazeMDP-v0\", kwargs={\"width\": 6, \"height\": 6, \"ratio\": 0.3}) \n",
    "env.init_draw(\"Maze\")\n",
    "plot_convergence_vi_pi(env, False)\n"
   ]
  },
  {
   "cell_type": "code",
   "execution_count": null,
   "id": "41db228e",
   "metadata": {},
   "outputs": [],
   "source": [
    "# Convergence and elemental updates by maze size\n",
    "\n",
    "from mazemdp import chrono\n",
    "\n",
    "def plot_iterations_updates_vi_pi(iterations, min_size, max_size):\n",
    "    maze_sizes = np.arange(min_size, max_size)\n",
    "    v_updates1 = np.zeros_like(maze_sizes, dtype = float)\n",
    "    v_updates2 = np.zeros_like(maze_sizes, dtype = float)\n",
    "    q_updates1 = np.zeros_like(maze_sizes, dtype = float)\n",
    "    q_updates2 = np.zeros_like(maze_sizes, dtype = float)\n",
    "    \n",
    "    v_iterations1 = np.zeros_like(maze_sizes, dtype = float)\n",
    "    v_iterations2 = np.zeros_like(maze_sizes, dtype = float)\n",
    "    q_iterations1 = np.zeros_like(maze_sizes, dtype = float)\n",
    "    q_iterations2 = np.zeros_like(maze_sizes, dtype = float)\n",
    "    \n",
    "    v_temps1 = np.zeros_like(maze_sizes, dtype = float)\n",
    "    v_temps2 = np.zeros_like(maze_sizes, dtype = float)\n",
    "    q_temps1 = np.zeros_like(maze_sizes, dtype = float)\n",
    "    q_temps2 = np.zeros_like(maze_sizes, dtype = float)\n",
    "    \n",
    "    render = False\n",
    "    for i, size in enumerate(maze_sizes):\n",
    "        print(\"Processing size \", size)\n",
    "        for j in range(iterations):\n",
    "            env = gym.make(\"MazeMDP-v0\", kwargs={\"width\": size, \"height\": size, \"ratio\": 0.4}) \n",
    "            # env.init_draw(\"Maze\")\n",
    "            t = chrono.time.time()\n",
    "            v, v_list1, v_upd1, v_iter1 = value_iteration_v(env, render)\n",
    "            v_temps1[i] += (chrono.time.time() - t)\n",
    "            t = chrono.time.time()\n",
    "            q, q_list1, q_upd1, q_iter1 = value_iteration_q(env, render)\n",
    "            q_temps1[i] += (chrono.time.time() - t)\n",
    "            t = chrono.time.time()\n",
    "            v, v_list2, v_upd2, v_iter2 = policy_iteration_v(env, render)\n",
    "            v_temps2[i] += (chrono.time.time() - t)\n",
    "            t = chrono.time.time()\n",
    "            q, q_list2, q_upd2, q_iter2 = policy_iteration_q(env, render)\n",
    "            q_temps2[i] += (chrono.time.time() - t)\n",
    "            \n",
    "            v_updates1[i] += v_upd1/iterations\n",
    "            v_updates2[i] += v_upd2/iterations\n",
    "            q_updates1[i] += q_upd1/iterations\n",
    "            q_updates2[i] += q_upd2/iterations\n",
    "            \n",
    "            v_iterations1[i] += v_iter1/iterations\n",
    "            v_iterations2[i] += v_iter2/iterations\n",
    "            q_iterations1[i] += q_iter1/iterations\n",
    "            q_iterations2[i] += q_iter2/iterations\n",
    "    \n",
    "    # Create two subplots and unpack the output array immediately\n",
    "    f, axis = plt.subplots(3, 1, sharey=False)\n",
    "    axis[0].plot(maze_sizes, v_updates1, label='value_updates_v')\n",
    "    axis[0].plot(maze_sizes, q_updates1, label='value_updates_q')\n",
    "    axis[0].plot(maze_sizes, v_updates2, label='policy_updates_v')\n",
    "    axis[0].plot(maze_sizes, q_updates2, label='policy_updates_q')\n",
    "    \n",
    "    axis[1].plot(maze_sizes, v_iterations1, label='value_iterations_v')\n",
    "    axis[1].plot(maze_sizes, q_iterations1, label='value_iterations_q')\n",
    "    axis[1].plot(maze_sizes, v_iterations2, label='policy_iterations_v')\n",
    "    axis[1].plot(maze_sizes, q_iterations2, label='policy_iterations_q')\n",
    "    \n",
    "    axis[2].plot(maze_sizes, v_temps1, label='value_iterations_v')\n",
    "    axis[2].plot(maze_sizes, q_temps1, label='value_iterations_q')\n",
    "    axis[2].plot(maze_sizes, v_temps2, label='policy_iterations_v')\n",
    "    axis[2].plot(maze_sizes, q_temps2, label='policy_iterations_q')\n",
    "\n",
    "\n",
    "    plt.xlabel('Maze size')\n",
    "    \n",
    "    axis[0].set_title('Elemental updates')\n",
    "    axis[1].set_title('Number of iterations')\n",
    "    axis[1].set_title('Time')\n",
    "    \n",
    "    axis[0].legend(loc='best')\n",
    "    axis[1].legend(loc='best')\n",
    "    axis[2].legend(loc='best')\n",
    "    plt.savefig(\"comparison_DP9_on_size.png\")\n",
    "    plt.tight_layout()\n",
    "    plt.show()\n"
   ]
  },
  {
   "cell_type": "code",
   "execution_count": null,
   "id": "f5585311",
   "metadata": {},
   "outputs": [],
   "source": [
    "    \n",
    "plot_iterations_updates_vi_pi(50, 5,10)"
   ]
  },
  {
   "cell_type": "code",
   "execution_count": null,
   "id": "61e81bd6",
   "metadata": {},
   "outputs": [],
   "source": [
    "# Convergence and elemental updates by maze size\n",
    "\n",
    "from mazemdp import chrono\n",
    "\n",
    "def plot_iterations_updates_vi_pi_ratio():\n",
    "    ratios = np.arange(0, 0.6, 0.05)\n",
    "    v_updates1 = np.zeros_like(ratios)\n",
    "    v_updates2 = np.zeros_like(ratios)\n",
    "    q_updates1 = np.zeros_like(ratios)\n",
    "    q_updates2 = np.zeros_like(ratios)\n",
    "    \n",
    "    v_iterations1 = np.zeros_like(ratios)\n",
    "    v_iterations2 = np.zeros_like(ratios)\n",
    "    q_iterations1 = np.zeros_like(ratios)\n",
    "    q_iterations2 = np.zeros_like(ratios)\n",
    "    \n",
    "    render = False\n",
    "    size = 6\n",
    "    for i, ratio in enumerate(ratios):\n",
    "        env = gym.make(\"MazeMDP-v0\", kwargs={\"width\": size, \"height\": size, \"ratio\": ratio}) \n",
    "        v, v_list1, v_updates1[i], v_iterations1[i] = value_iteration_v(env, render)\n",
    "        q, q_list1, q_updates1[i], q_iterations1[i] = value_iteration_q(env, render)\n",
    "        v, v_list2, v_updates2[i], v_iterations2[i] = policy_iteration_v(env, render)\n",
    "        q, q_list2, q_updates2[i], q_iterations2[i] = policy_iteration_q(env, render)\n",
    "        \n",
    "    # Create two subplots and unpack the output array immediately\n",
    "    f, axis = plt.subplots(2, 1, sharey=False)\n",
    "    axis[0].plot(ratios, v_updates1, label='value_updates_v')\n",
    "    axis[0].plot(ratios, q_updates1, label='value_updates_q')\n",
    "    axis[0].plot(ratios, v_updates2, label='policy_updates_v')\n",
    "    axis[0].plot(ratios, q_updates2, label='policy_updates_q')\n",
    "    \n",
    "    axis[1].plot(ratios, v_iterations1, label='value_iterations_v')\n",
    "    axis[1].plot(ratios, q_iterations1, label='value_iterations_q')\n",
    "    axis[1].plot(ratios, v_iterations2, label='policy_iterations_v')\n",
    "    axis[1].plot(ratios, q_iterations2, label='policy_iterations_q')\n",
    "\n",
    "\n",
    "    plt.xlabel('Maze size')\n",
    "    axis[0].set_title('Number of elementary updates')\n",
    "    axis[1].set_title('Number of iterations until convergence')\n",
    "    axis[0].legend(loc='best')\n",
    "    axis[1].legend(loc='best')\n",
    "    # plt.savefig(\"comparison_DP.png\")\n",
    "    plt.tight_layout()\n",
    "    plt.show()\n",
    "    \n",
    "plot_iterations_updates_vi_pi_ratio()"
   ]
  },
  {
   "cell_type": "markdown",
   "id": "9a7a492f",
   "metadata": {
    "id": "S9LttlIXsB9o"
   },
   "source": [
    "\n",
    "Given the results above, discuss the relative computational efficiency of these methods."
   ]
  },
  {
   "cell_type": "markdown",
   "id": "c4a7297e",
   "metadata": {
    "id": "0UGNtcOgsQgZ"
   },
   "source": [
    "### Study part: Generalized Policy Iteration"
   ]
  },
  {
   "cell_type": "markdown",
   "id": "a70adab3",
   "metadata": {
    "id": "l89FvxifsVib"
   },
   "source": [
    "Code the **generalized policy iteration** algorithm and study the influence of the number of evaluation steps between each improvement step"
   ]
  },
  {
   "cell_type": "code",
   "execution_count": null,
   "id": "6bf08e2d",
   "metadata": {},
   "outputs": [],
   "source": [
    "# Convergence and elemental updates by maze size\n",
    "\n",
    "from mazemdp import chrono\n",
    "\n",
    "def plot_iterations_updates_vi_pi(iterations, min_size, max_size):\n",
    "    maze_sizes = np.arange(min_size, max_size)\n",
    "    v_updates1 = np.zeros_like(maze_sizes, dtype = float)\n",
    "    v_updates2 = np.zeros_like(maze_sizes, dtype = float)\n",
    "    q_updates1 = np.zeros_like(maze_sizes, dtype = float)\n",
    "    q_updates2 = np.zeros_like(maze_sizes, dtype = float)\n",
    "    \n",
    "    v_iterations1 = np.zeros_like(maze_sizes, dtype = float)\n",
    "    v_iterations2 = np.zeros_like(maze_sizes, dtype = float)\n",
    "    q_iterations1 = np.zeros_like(maze_sizes, dtype = float)\n",
    "    q_iterations2 = np.zeros_like(maze_sizes, dtype = float)\n",
    "    \n",
    "    v_temps1 = np.zeros_like(maze_sizes, dtype = float)\n",
    "    v_temps2 = np.zeros_like(maze_sizes, dtype = float)\n",
    "    q_temps1 = np.zeros_like(maze_sizes, dtype = float)\n",
    "    q_temps2 = np.zeros_like(maze_sizes, dtype = float)\n",
    "    \n",
    "    render = False\n",
    "    for i, size in enumerate(maze_sizes):\n",
    "        print(\"Processing size \", size)\n",
    "        for j in range(iterations):\n",
    "            env = gym.make(\"MazeMDP-v0\", kwargs={\"width\": size, \"height\": size, \"ratio\": 0.4}) \n",
    "            # env.init_draw(\"Maze\")\n",
    "            t = chrono.time.time()\n",
    "            v, v_list1, v_upd1, v_iter1 = value_iteration_v(env, render)\n",
    "            v_temps1[i] += (chrono.time.time() - t)\n",
    "            t = chrono.time.time()\n",
    "            q, q_list1, q_upd1, q_iter1 = value_iteration_q(env, render)\n",
    "            q_temps1[i] += (chrono.time.time() - t)\n",
    "            t = chrono.time.time()\n",
    "            v, v_list2, v_upd2, v_iter2 = policy_iteration_v(env, render)\n",
    "            v_temps2[i] += (chrono.time.time() - t)\n",
    "            t = chrono.time.time()\n",
    "            q, q_list2, q_upd2, q_iter2 = policy_iteration_q(env, render)\n",
    "            q_temps2[i] += (chrono.time.time() - t)\n",
    "            \n",
    "            v_updates1[i] += v_upd1/iterations\n",
    "            v_updates2[i] += v_upd2/iterations\n",
    "            q_updates1[i] += q_upd1/iterations\n",
    "            q_updates2[i] += q_upd2/iterations\n",
    "            \n",
    "            v_iterations1[i] += v_iter1/iterations\n",
    "            v_iterations2[i] += v_iter2/iterations\n",
    "            q_iterations1[i] += q_iter1/iterations\n",
    "            q_iterations2[i] += q_iter2/iterations\n",
    "    \n",
    "    # Create two subplots and unpack the output array immediately\n",
    "    f, axis = plt.subplots(3, 1, sharey=False)\n",
    "    axis[0].plot(maze_sizes, v_updates1, label='value_updates_v')\n",
    "    axis[0].plot(maze_sizes, q_updates1, label='value_updates_q')\n",
    "    axis[0].plot(maze_sizes, v_updates2, label='policy_updates_v')\n",
    "    axis[0].plot(maze_sizes, q_updates2, label='policy_updates_q')\n",
    "    \n",
    "    axis[1].plot(maze_sizes, v_iterations1, label='value_iterations_v')\n",
    "    axis[1].plot(maze_sizes, q_iterations1, label='value_iterations_q')\n",
    "    axis[1].plot(maze_sizes, v_iterations2, label='policy_iterations_v')\n",
    "    axis[1].plot(maze_sizes, q_iterations2, label='policy_iterations_q')\n",
    "    \n",
    "    axis[2].plot(maze_sizes, v_temps1, label='value_iterations_v')\n",
    "    axis[2].plot(maze_sizes, q_temps1, label='value_iterations_q')\n",
    "    axis[2].plot(maze_sizes, v_temps2, label='policy_iterations_v')\n",
    "    axis[2].plot(maze_sizes, q_temps2, label='policy_iterations_q')\n",
    "\n",
    "\n",
    "    plt.xlabel('Maze size')\n",
    "    \n",
    "    axis[0].set_title('Elemental updates')\n",
    "    axis[1].set_title('Number of iterations')\n",
    "    axis[1].set_title('Time')\n",
    "    \n",
    "    axis[0].legend(loc='best')\n",
    "    axis[1].legend(loc='best')\n",
    "    axis[2].legend(loc='best')\n",
    "    plt.savefig(\"comparison_DP9_on_size.png\")\n",
    "    plt.tight_layout()\n",
    "    plt.show()\n"
   ]
  },
  {
   "cell_type": "code",
   "execution_count": 65,
   "id": "ea5f1e5b",
   "metadata": {},
   "outputs": [
    {
     "data": {
      "application/vnd.jupyter.widget-view+json": {
       "model_id": "b8b89a5a5f094cc088a25b442a34e023",
       "version_major": 2,
       "version_minor": 0
      },
      "text/plain": [
       "Output()"
      ]
     },
     "metadata": {},
     "output_type": "display_data"
    }
   ],
   "source": [
    "\n",
    "SIZE = 10\n",
    "RATIO = 0.3\n",
    "\n",
    "env = gym.make(\"MazeMDP-v0\", kwargs={\"width\": SIZE, \"height\": SIZE, \"ratio\": RATIO})\n",
    "env.reset()\n",
    "env.set_no_agent()\n",
    "env.init_draw(\"The maze\")"
   ]
  },
  {
   "cell_type": "code",
   "execution_count": 68,
   "id": "bcd91a79",
   "metadata": {},
   "outputs": [],
   "source": [
    "def evaluate_v_generalized(mdp: MazeMDPEnv, policy: np.ndarray, v : np.array, k: int) -> np.ndarray:\n",
    "    # Outputs the state value function of a policy\n",
    "    stop = False\n",
    "    v_updates = 0\n",
    "    for i in range(k):\n",
    "        vold = v.copy()\n",
    "        v, v_step_updates = evaluate_one_step_v(mdp, vold, policy)\n",
    "        v_updates += v_step_updates\n",
    "        # Test if convergence has been reached\n",
    "        if (np.linalg.norm(v - vold)) < 0.01:\n",
    "            return v, v_updates\n",
    "    return v, v_updates\n",
    "\n",
    "def evaluate_one_step_v_generalized(mdp: MazeMDPEnv, v: np.ndarray, policy: np.ndarray) -> np.ndarray:\n",
    "    # Outputs the state value function after one step of policy evaluation\n",
    "    # Corresponds to one application of the Bellman Operator\n",
    "    v_updates = 0\n",
    "    v_new = v.copy()\n",
    "    for x in range(mdp.nb_states):  # for each state x\n",
    "        # Compute the value of the state x for each action u of the MDP action space\n",
    "        if x not in mdp.terminal_states:\n",
    "            # Process sum of the values of the neighbouring states\n",
    "            summ = 0\n",
    "            for y in range(mdp.nb_states):\n",
    "                summ = summ + mdp.P[x, policy[x], y] * v[y]\n",
    "            v_new[x] = mdp.r[x, policy[x]] + mdp.gamma * summ\n",
    "            v_updates += 1\n",
    "    return v_new, v_updates\n",
    "\n",
    "\n",
    "# ---------------- Policy Iteration with the V function -----------------#\n",
    "# Given an MDP, this algorithm simultaneously computes \n",
    "# the optimal state value function V and the optimal policy\n",
    "\n",
    "def generalized_policy_iteration_v(mdp: MazeMDPEnv, k, render: bool = True) -> Tuple[np.ndarray, List[float]]:\n",
    "    # policy iteration over the v function\n",
    "    v = np.zeros(mdp.nb_states)  # initial state values are set to 0\n",
    "    v_list = []\n",
    "    policy = random_policy(mdp)\n",
    "\n",
    "    stop = False\n",
    "    v_updates_total = 0\n",
    "    iterations = 0\n",
    "\n",
    "    if render:\n",
    "        mdp.init_draw(\"Policy iteration V\")\n",
    "\n",
    "    while not stop:\n",
    "        vold = v.copy()\n",
    "        # Step 1 : Policy Evaluation\n",
    "        v, v_updates = evaluate_v_generalized(mdp, policy, vold, k)\n",
    "        v_updates_total += v_updates\n",
    "        if render:\n",
    "            mdp.draw_v_pi(v, policy, title=\"Policy iteration V\")\n",
    "\n",
    "        # Step 2 : Policy Improvement\n",
    "        # À compléter...  \n",
    "        policy = improve_policy_from_v(mdp, v, policy)\n",
    "        \n",
    "        # Check convergence\n",
    "        if (np.linalg.norm(v - vold)) < 0.01:\n",
    "            stop = True\n",
    "        v_list.append(np.linalg.norm(v))\n",
    "        iterations +=1\n",
    "\n",
    "    if render:\n",
    "        mdp.draw_v_pi(v, policy, title=\"Policy iteration V\")\n",
    "        mdp.mdp.plotter.video_writer.release()\n",
    "\n",
    "    return v, v_list, v_updates_total, iterations\n"
   ]
  },
  {
   "cell_type": "code",
   "execution_count": 69,
   "id": "4d0190b8",
   "metadata": {},
   "outputs": [
    {
     "data": {
      "application/vnd.jupyter.widget-view+json": {
       "model_id": "ce5f600f29c0494a9e510a75fff990e6",
       "version_major": 2,
       "version_minor": 0
      },
      "text/plain": [
       "Output()"
      ]
     },
     "metadata": {},
     "output_type": "display_data"
    },
    {
     "data": {
      "text/plain": [
       "(array([0.15009464, 0.16677182, 0.20589113, 0.18530202, 0.16677182,\n",
       "        0.15009464, 0.13508517, 0.12157665, 0.10941899, 0.16677182,\n",
       "        0.18530202, 0.22876792, 0.15009464, 0.13508517, 0.12157665,\n",
       "        0.10941899, 0.09847709, 0.18530202, 0.20589113, 0.22876792,\n",
       "        0.25418658, 0.13508517, 0.12157665, 0.10941899, 0.20589113,\n",
       "        0.22876792, 0.28242954, 0.3138106 , 0.38742049, 0.25418658,\n",
       "        0.28242954, 0.3138106 , 0.34867844, 0.4782969 , 0.43046721,\n",
       "        0.25418658, 0.28242954, 0.3138106 , 0.34867844, 0.38742049,\n",
       "        0.43046721, 0.4782969 , 0.531441  , 0.6561    , 0.25418658,\n",
       "        0.28242954, 0.38742049, 0.59049   , 0.729     , 0.20589113,\n",
       "        0.22876792, 0.25418658, 0.3138106 , 0.34867844, 0.6561    ,\n",
       "        0.729     , 0.81      , 0.18530202, 0.20589113, 0.22876792,\n",
       "        0.20589113, 0.3138106 , 0.28242954, 0.81      , 0.9       ,\n",
       "        0.16677182, 0.18530202, 0.18530202, 0.25418658, 1.        ,\n",
       "        0.        ]),\n",
       " [1.0,\n",
       "  1.3453624047073711,\n",
       "  1.911449973187894,\n",
       "  2.1483829290887604,\n",
       "  2.24633399564713,\n",
       "  2.322648242868472,\n",
       "  2.3826716929910847,\n",
       "  2.513953512809138,\n",
       "  2.6602866093585025,\n",
       "  2.7417571616665866,\n",
       "  2.851618729162893,\n",
       "  2.9213951999089063,\n",
       "  2.998000671161098,\n",
       "  3.046365324589963,\n",
       "  3.070369594153714,\n",
       "  3.0748954915001603,\n",
       "  3.0881280883410085,\n",
       "  3.1001771332681876,\n",
       "  3.105598336118494,\n",
       "  3.105598336118494],\n",
       " 3360,\n",
       " 20)"
      ]
     },
     "execution_count": 69,
     "metadata": {},
     "output_type": "execute_result"
    }
   ],
   "source": [
    "generalized_policy_iteration_v(env,10,True)"
   ]
  },
  {
   "cell_type": "code",
   "execution_count": 70,
   "id": "b533cc66",
   "metadata": {},
   "outputs": [],
   "source": [
    "def evaluate_one_step_q_generalized(mdp: MazeMDPEnv, q: np.ndarray, policy: np.ndarray) -> np.ndarray:\n",
    "    # Outputs the state value function after one step of policy evaluation\n",
    "    qnew = q.copy()  # initial action values are set to 0\n",
    "    q_updates = 0\n",
    "    for x in range(mdp.nb_states):  # for each state x\n",
    "        # Compute the value of the state x for each action u of the MDP action space\n",
    "        if x not in mdp.terminal_states:\n",
    "            for u in mdp.action_space.actions:\n",
    "                # Process sum of the values of the neighbouring states\n",
    "                summ = 0\n",
    "                for y in range(mdp.nb_states):\n",
    "                    \n",
    "                    summ += mdp.P[x, u, y] * q[y, policy[y]]\n",
    "                    \n",
    "                qnew[x, u] = mdp.r[x, u] + mdp.gamma * summ\n",
    "                q_updates += 1\n",
    "    return qnew, q_updates\n",
    "\n",
    "def evaluate_q_generalized(mdp: MazeMDPEnv, policy: np.ndarray, q, k) -> np.ndarray:\n",
    "    # Outputs the state value function of a policy\n",
    "    stop = False\n",
    "    q_updates = 0\n",
    "    for i in range(k):\n",
    "        qold = q.copy()\n",
    "        q, q_step_updates = evaluate_one_step_q_generalized(mdp, q, policy)\n",
    "        q_updates += q_step_updates\n",
    "        # Test if convergence has been reached\n",
    "        if (np.linalg.norm(q - qold)) < 0.01:\n",
    "            return q, q_updates\n",
    "    return q, q_updates\n",
    "\n",
    "#---------------- Policy Iteration with the Q function -----------------#\n",
    "# Given a MDP, this algorithm simultaneously computes \n",
    "# the optimal action value function Q and the optimal policy\n",
    "\n",
    "def generalized_policy_iteration_q(mdp: MazeMDPEnv, k, render: bool = True) -> Tuple[np.ndarray, List[float]]:\n",
    "    \"\"\"policy iteration over the q function.\"\"\"\n",
    "    q = np.zeros((mdp.nb_states, mdp.action_space.size))  # initial action values are set to 0\n",
    "    q_list = []\n",
    "    policy = random_policy(mdp)\n",
    "\n",
    "    stop = False\n",
    "    q_total_updates = 0\n",
    "    iterations = 0\n",
    "\n",
    "    if render:\n",
    "        mdp.init_draw(\"Policy iteration Q\")\n",
    "\n",
    "    while not stop:\n",
    "        qold = q.copy()\n",
    "\n",
    "        if render:\n",
    "            mdp.draw_v(q, title=\"Policy iteration Q\")\n",
    "\n",
    "        # Step 1 : Policy evaluation\n",
    "        q, q_updates = evaluate_q_generalized(mdp, policy, qold, k)\n",
    "        q_total_updates += q_updates\n",
    "        # Step 2 : Policy improvement\n",
    "        policy = get_policy_from_q(q)\n",
    "        # Check convergence\n",
    "        if (np.linalg.norm(q - qold)) <= 0.01:\n",
    "            stop = True\n",
    "        q_list.append(np.linalg.norm(q))\n",
    "        iterations += 1\n",
    "\n",
    "    if render:\n",
    "        mdp.draw_v_pi(q, get_policy_from_q(q), title=\"Policy iteration Q\")\n",
    "    return q, q_list, q_total_updates, iterations"
   ]
  },
  {
   "cell_type": "code",
   "execution_count": 71,
   "id": "fc256403",
   "metadata": {},
   "outputs": [
    {
     "data": {
      "application/vnd.jupyter.widget-view+json": {
       "model_id": "3180f46d2512434da9e90e6c6041f64f",
       "version_major": 2,
       "version_minor": 0
      },
      "text/plain": [
       "Output()"
      ]
     },
     "metadata": {},
     "output_type": "display_data"
    },
    {
     "data": {
      "text/plain": [
       "(array([[0.13508517, 0.15009464, 0.15009464, 0.13508517],\n",
       "        [0.13508517, 0.15009464, 0.16677182, 0.15009464],\n",
       "        [0.18530202, 0.16677182, 0.20589113, 0.18530202],\n",
       "        [0.18530202, 0.15009464, 0.16677182, 0.16677182],\n",
       "        [0.16677182, 0.13508517, 0.13508517, 0.15009464],\n",
       "        [0.15009464, 0.12157665, 0.12157665, 0.13508517],\n",
       "        [0.13508517, 0.10941899, 0.10941899, 0.12157665],\n",
       "        [0.12157665, 0.09847709, 0.09847709, 0.10941899],\n",
       "        [0.10941899, 0.09847709, 0.08862938, 0.09847709],\n",
       "        [0.15009464, 0.16677182, 0.16677182, 0.13508517],\n",
       "        [0.15009464, 0.16677182, 0.18530202, 0.15009464],\n",
       "        [0.20589113, 0.20589113, 0.22876792, 0.18530202],\n",
       "        [0.13508517, 0.12157665, 0.12157665, 0.15009464],\n",
       "        [0.13508517, 0.10941899, 0.10941899, 0.13508517],\n",
       "        [0.12157665, 0.09847709, 0.09847709, 0.12157665],\n",
       "        [0.10941899, 0.08862938, 0.09847709, 0.10941899],\n",
       "        [0.09847709, 0.08862938, 0.08862938, 0.09847709],\n",
       "        [0.16677182, 0.18530202, 0.18530202, 0.15009464],\n",
       "        [0.16677182, 0.20589113, 0.20589113, 0.16677182],\n",
       "        [0.18530202, 0.22876792, 0.20589113, 0.20589113],\n",
       "        [0.20589113, 0.22876792, 0.25418658, 0.20589113],\n",
       "        [0.12157665, 0.10941899, 0.12157665, 0.13508517],\n",
       "        [0.12157665, 0.09847709, 0.10941899, 0.12157665],\n",
       "        [0.10941899, 0.09847709, 0.09847709, 0.10941899],\n",
       "        [0.18530202, 0.20589113, 0.18530202, 0.16677182],\n",
       "        [0.18530202, 0.20589113, 0.22876792, 0.18530202],\n",
       "        [0.25418658, 0.28242954, 0.28242954, 0.22876792],\n",
       "        [0.25418658, 0.28242954, 0.3138106 , 0.28242954],\n",
       "        [0.34867844, 0.34867844, 0.38742049, 0.34867844],\n",
       "        [0.22876792, 0.25418658, 0.25418658, 0.20589113],\n",
       "        [0.22876792, 0.28242954, 0.28242954, 0.25418658],\n",
       "        [0.25418658, 0.3138106 , 0.3138106 , 0.25418658],\n",
       "        [0.28242954, 0.3138106 , 0.34867844, 0.28242954],\n",
       "        [0.43046721, 0.38742049, 0.4782969 , 0.43046721],\n",
       "        [0.43046721, 0.38742049, 0.38742049, 0.34867844],\n",
       "        [0.22876792, 0.25418658, 0.22876792, 0.22876792],\n",
       "        [0.22876792, 0.28242954, 0.22876792, 0.22876792],\n",
       "        [0.25418658, 0.3138106 , 0.25418658, 0.25418658],\n",
       "        [0.28242954, 0.34867844, 0.3138106 , 0.28242954],\n",
       "        [0.3138106 , 0.38742049, 0.34867844, 0.3138106 ],\n",
       "        [0.34867844, 0.43046721, 0.34867844, 0.38742049],\n",
       "        [0.38742049, 0.4782969 , 0.43046721, 0.43046721],\n",
       "        [0.43046721, 0.4782969 , 0.531441  , 0.43046721],\n",
       "        [0.59049   , 0.59049   , 0.6561    , 0.59049   ],\n",
       "        [0.22876792, 0.25418658, 0.20589113, 0.25418658],\n",
       "        [0.22876792, 0.25418658, 0.22876792, 0.28242954],\n",
       "        [0.34867844, 0.34867844, 0.3138106 , 0.38742049],\n",
       "        [0.531441  , 0.531441  , 0.59049   , 0.4782969 ],\n",
       "        [0.6561    , 0.6561    , 0.729     , 0.59049   ],\n",
       "        [0.18530202, 0.20589113, 0.16677182, 0.18530202],\n",
       "        [0.18530202, 0.22876792, 0.18530202, 0.22876792],\n",
       "        [0.20589113, 0.22876792, 0.20589113, 0.25418658],\n",
       "        [0.28242954, 0.3138106 , 0.28242954, 0.28242954],\n",
       "        [0.28242954, 0.3138106 , 0.28242954, 0.34867844],\n",
       "        [0.59049   , 0.6561    , 0.59049   , 0.531441  ],\n",
       "        [0.59049   , 0.729     , 0.729     , 0.6561    ],\n",
       "        [0.6561    , 0.729     , 0.81      , 0.6561    ],\n",
       "        [0.16677182, 0.18530202, 0.15009464, 0.18530202],\n",
       "        [0.16677182, 0.20589113, 0.16677182, 0.20589113],\n",
       "        [0.18530202, 0.18530202, 0.20589113, 0.22876792],\n",
       "        [0.20589113, 0.18530202, 0.16677182, 0.18530202],\n",
       "        [0.28242954, 0.25418658, 0.28242954, 0.3138106 ],\n",
       "        [0.28242954, 0.25418658, 0.22876792, 0.25418658],\n",
       "        [0.729     , 0.81      , 0.729     , 0.6561    ],\n",
       "        [0.729     , 0.81      , 0.9       , 0.729     ],\n",
       "        [0.15009464, 0.16677182, 0.15009464, 0.16677182],\n",
       "        [0.15009464, 0.16677182, 0.16677182, 0.18530202],\n",
       "        [0.16677182, 0.16677182, 0.16677182, 0.18530202],\n",
       "        [0.22876792, 0.22876792, 0.22876792, 0.25418658],\n",
       "        [1.        , 1.        , 1.        , 1.        ],\n",
       "        [0.        , 0.        , 0.        , 0.        ]]),\n",
       " [2.193171219946131,\n",
       "  2.603516852259651,\n",
       "  3.3211184862934355,\n",
       "  3.8044139732684195,\n",
       "  4.1548758345827865,\n",
       "  4.288672445725368,\n",
       "  4.394062248639913,\n",
       "  4.624994890504412,\n",
       "  4.741019183334127,\n",
       "  4.842507215633937,\n",
       "  4.963023394674569,\n",
       "  5.146394208879999,\n",
       "  5.265784415325109,\n",
       "  5.3642502528065865,\n",
       "  5.455304876269662,\n",
       "  5.565833353870547,\n",
       "  5.627941326206766,\n",
       "  5.664792044501964,\n",
       "  5.671230988240414,\n",
       "  5.671230988240414],\n",
       " 13720,\n",
       " 20)"
      ]
     },
     "execution_count": 71,
     "metadata": {},
     "output_type": "execute_result"
    }
   ],
   "source": [
    "generalized_policy_iteration_q(env,10,True)"
   ]
  },
  {
   "cell_type": "code",
   "execution_count": 80,
   "id": "497510c2",
   "metadata": {},
   "outputs": [],
   "source": [
    "# ---- plot learning curves of Q-Learning and Sarsa using epsilon-greedy and softmax -----#\n",
    "\n",
    "def plot_convergence_vi_pi_generalized(m, render):\n",
    "    v, v_list1, v_updates1, v_iterations1 = value_iteration_v(m, render)\n",
    "    q, q_list1, q_updates1, q_iterations1 = value_iteration_q(m, render)\n",
    "    v, v_list2, v_updates2, v_iterations2 = policy_iteration_v(m, render)\n",
    "    q, q_list2, q_updates2, q_iterations2 = policy_iteration_q(m, render)\n",
    "    v, v_list3, v_updates3, v_iterations3 = generalized_policy_iteration_q(m, 5, render)\n",
    "    q, q_list3, q_updates3, q_iterations3 = generalized_policy_iteration_q(m, 20, render)\n",
    "\n",
    "    plt.plot(range(len(v_list1)), v_list1, label='value_iteration_v')\n",
    "    plt.plot(range(len(q_list1)), q_list1, label='value_iteration_q')\n",
    "    plt.plot(range(len(v_list2)), v_list2, label='policy_iteration_v')\n",
    "    plt.plot(range(len(q_list2)), q_list2, label='policy_iteration_q')\n",
    "    plt.plot(range(len(v_list3)), v_list3, label='generalized_policy_iteration_v')\n",
    "    plt.plot(range(len(q_list3)), q_list3, label='generalized_policy_iteration_q')\n",
    "\n",
    "    plt.xlabel('Number of episodes')\n",
    "    plt.ylabel('Norm of V or Q value')\n",
    "    plt.legend(loc='best')\n",
    "    # plt.savefig(\"comparison_DP.png\")\n",
    "    plt.title(\"Comparison of convergence rates\")\n",
    "    plt.show()"
   ]
  },
  {
   "cell_type": "code",
   "execution_count": 81,
   "id": "ddea7f86",
   "metadata": {},
   "outputs": [
    {
     "data": {
      "image/png": "[encoded data removed]",
      "text/plain": [
       "<Figure size 640x480 with 1 Axes>"
      ]
     },
     "metadata": {},
     "output_type": "display_data"
    }
   ],
   "source": [
    "plot_convergence_vi_pi_generalized(env,False)"
   ]
  },
  {
   "cell_type": "code",
   "execution_count": null,
   "id": "17216e6d",
   "metadata": {},
   "outputs": [],
   "source": []
  }
 ],
 "metadata": {
  "jupytext": {
   "formats": "ipynb,Rmd"
  },
  "kernelspec": {
   "display_name": "Python 3.10.4 ('deepdac')",
   "language": "python",
   "name": "python3"
  },
  "language_info": {
   "codemirror_mode": {
    "name": "ipython",
    "version": 3
   },
   "file_extension": ".py",
   "mimetype": "text/x-python",
   "name": "python",
   "nbconvert_exporter": "python",
   "pygments_lexer": "ipython3",
   "version": "3.10.6"
  },
  "vscode": {
   "interpreter": {
    "hash": "b8381a9192b883635ac16797c97396a9adba45cea8be9b52669f729c8ec391d7"
   }
  }
 },
 "nbformat": 4,
 "nbformat_minor": 5
}
